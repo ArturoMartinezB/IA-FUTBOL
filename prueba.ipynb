{
 "cells": [
  {
   "cell_type": "code",
   "execution_count": 1,
   "metadata": {},
   "outputs": [
    {
     "name": "stdout",
     "output_type": "stream",
     "text": [
      "2.5.1+cu124\n",
      "True\n",
      "1\n",
      "NVIDIA GeForce GTX 1050\n"
     ]
    }
   ],
   "source": [
    "import torch\n",
    "print(torch.__version__)\n",
    "print(torch.cuda.is_available())  # Debe devolver True\n",
    "print(torch.cuda.device_count())  # Número de GPUs disponibles\n",
    "print(torch.cuda.get_device_name(0))  # Nombre de tu GPU\n"
   ]
  },
  {
   "cell_type": "code",
   "execution_count": 1,
   "metadata": {},
   "outputs": [
    {
     "name": "stdout",
     "output_type": "stream",
     "text": [
      "Downloading https://github.com/ultralytics/assets/releases/download/v8.3.0/yolov9s.pt to 'yolov9s.pt'...\n"
     ]
    },
    {
     "name": "stderr",
     "output_type": "stream",
     "text": [
      "100%|██████████| 14.7M/14.7M [00:00<00:00, 39.9MB/s]\n"
     ]
    },
    {
     "name": "stdout",
     "output_type": "stream",
     "text": [
      "New https://pypi.org/project/ultralytics/8.3.77 available  Update with 'pip install -U ultralytics'\n",
      "Ultralytics 8.3.75  Python-3.11.3 torch-2.5.1+cu121 CUDA:0 (NVIDIA GeForce GTX 1050, 4096MiB)\n",
      "\u001b[34m\u001b[1mengine\\trainer: \u001b[0mtask=detect, mode=train, model=yolov9s.pt, data=roboflow_data/data.yaml, epochs=60, time=None, patience=100, batch=8, imgsz=832, save=True, save_period=-1, cache=False, device=cuda, workers=8, project=None, name=train23, exist_ok=False, pretrained=True, optimizer=auto, verbose=True, seed=0, deterministic=True, single_cls=False, rect=False, cos_lr=False, close_mosaic=10, resume=False, amp=True, fraction=1.0, profile=False, freeze=None, multi_scale=False, overlap_mask=True, mask_ratio=4, dropout=0.0, val=True, split=val, save_json=False, save_hybrid=False, conf=None, iou=0.7, max_det=300, half=False, dnn=False, plots=True, source=None, vid_stride=1, stream_buffer=False, visualize=False, augment=False, agnostic_nms=False, classes=None, retina_masks=False, embed=None, show=False, save_frames=False, save_txt=False, save_conf=False, save_crop=False, show_labels=True, show_conf=True, show_boxes=True, line_width=None, format=torchscript, keras=False, optimize=False, int8=False, dynamic=False, simplify=True, opset=None, workspace=None, nms=False, lr0=0.01, lrf=0.01, momentum=0.937, weight_decay=0.0005, warmup_epochs=3.0, warmup_momentum=0.8, warmup_bias_lr=0.1, box=7.5, cls=0.5, dfl=1.5, pose=12.0, kobj=1.0, nbs=64, hsv_h=0.015, hsv_s=0.7, hsv_v=0.4, degrees=0.0, translate=0.1, scale=0.5, shear=0.0, perspective=0.0, flipud=0.0, fliplr=0.5, bgr=0.0, mosaic=1.0, mixup=0.0, copy_paste=0.0, copy_paste_mode=flip, auto_augment=randaugment, erasing=0.4, crop_fraction=1.0, cfg=None, tracker=botsort.yaml, save_dir=runs\\detect\\train23\n",
      "Overriding model.yaml nc=80 with nc=4\n",
      "\n",
      "                   from  n    params  module                                       arguments                     \n",
      "  0                  -1  1       928  ultralytics.nn.modules.conv.Conv             [3, 32, 3, 2]                 \n",
      "  1                  -1  1     18560  ultralytics.nn.modules.conv.Conv             [32, 64, 3, 2]                \n",
      "  2                  -1  1     31104  ultralytics.nn.modules.block.ELAN1           [64, 64, 64, 32]              \n",
      "  3                  -1  1     73984  ultralytics.nn.modules.block.AConv           [64, 128]                     \n",
      "  4                  -1  1    258432  ultralytics.nn.modules.block.RepNCSPELAN4    [128, 128, 128, 64, 3]        \n",
      "  5                  -1  1    221568  ultralytics.nn.modules.block.AConv           [128, 192]                    \n",
      "  6                  -1  1    579648  ultralytics.nn.modules.block.RepNCSPELAN4    [192, 192, 192, 96, 3]        \n",
      "  7                  -1  1    442880  ultralytics.nn.modules.block.AConv           [192, 256]                    \n",
      "  8                  -1  1   1028864  ultralytics.nn.modules.block.RepNCSPELAN4    [256, 256, 256, 128, 3]       \n",
      "  9                  -1  1    164608  ultralytics.nn.modules.block.SPPELAN         [256, 256, 128]               \n",
      " 10                  -1  1         0  torch.nn.modules.upsampling.Upsample         [None, 2, 'nearest']          \n",
      " 11             [-1, 6]  1         0  ultralytics.nn.modules.conv.Concat           [1]                           \n",
      " 12                  -1  1    628800  ultralytics.nn.modules.block.RepNCSPELAN4    [448, 192, 192, 96, 3]        \n",
      " 13                  -1  1         0  torch.nn.modules.upsampling.Upsample         [None, 2, 'nearest']          \n",
      " 14             [-1, 4]  1         0  ultralytics.nn.modules.conv.Concat           [1]                           \n",
      " 15                  -1  1    283008  ultralytics.nn.modules.block.RepNCSPELAN4    [320, 128, 128, 64, 3]        \n",
      " 16                  -1  1    110784  ultralytics.nn.modules.block.AConv           [128, 96]                     \n",
      " 17            [-1, 12]  1         0  ultralytics.nn.modules.conv.Concat           [1]                           \n",
      " 18                  -1  1    598080  ultralytics.nn.modules.block.RepNCSPELAN4    [288, 192, 192, 96, 3]        \n",
      " 19                  -1  1    221440  ultralytics.nn.modules.block.AConv           [192, 128]                    \n",
      " 20             [-1, 9]  1         0  ultralytics.nn.modules.conv.Concat           [1]                           \n",
      " 21                  -1  1   1061632  ultralytics.nn.modules.block.RepNCSPELAN4    [384, 256, 256, 128, 3]       \n",
      " 22        [15, 18, 21]  1   1564636  ultralytics.nn.modules.head.Detect           [4, [128, 192, 256]]          \n",
      "YOLOv9s summary: 917 layers, 7,288,956 parameters, 7,288,940 gradients, 27.4 GFLOPs\n",
      "\n",
      "Transferred 1333/1339 items from pretrained weights\n",
      "\u001b[34m\u001b[1mTensorBoard: \u001b[0mWARNING  TensorBoard not initialized correctly, not logging this run. runs\\detect\\train23 is not a directory\n",
      "Freezing layer 'model.22.dfl.conv.weight'\n",
      "\u001b[34m\u001b[1mAMP: \u001b[0mrunning Automatic Mixed Precision (AMP) checks...\n",
      "\u001b[34m\u001b[1mAMP: \u001b[0mchecks passed \n"
     ]
    },
    {
     "name": "stderr",
     "output_type": "stream",
     "text": [
      "\u001b[34m\u001b[1mtrain: \u001b[0mScanning C:\\Users\\USUARIO\\Documents\\UNIVERSIDAD\\6º\\TFG INFORMÁTICA\\IA FUTBOL\\roboflow_data\\train\\labels.cache... 298 images, 0 backgrounds, 0 corrupt: 100%|██████████| 298/298 [00:00<?, ?it/s]\n",
      "\u001b[34m\u001b[1mval: \u001b[0mScanning C:\\Users\\USUARIO\\Documents\\UNIVERSIDAD\\6º\\TFG INFORMÁTICA\\IA FUTBOL\\roboflow_data\\valid\\labels.cache... 49 images, 0 backgrounds, 0 corrupt: 100%|██████████| 49/49 [00:00<?, ?it/s]\n"
     ]
    },
    {
     "name": "stdout",
     "output_type": "stream",
     "text": [
      "Plotting labels to runs\\detect\\train23\\labels.jpg... \n",
      "\u001b[34m\u001b[1moptimizer:\u001b[0m 'optimizer=auto' found, ignoring 'lr0=0.01' and 'momentum=0.937' and determining best 'optimizer', 'lr0' and 'momentum' automatically... \n",
      "\u001b[34m\u001b[1moptimizer:\u001b[0m AdamW(lr=0.00125, momentum=0.9) with parameter groups 221 weight(decay=0.0), 228 weight(decay=0.0005), 227 bias(decay=0.0)\n",
      "Image sizes 832 train, 832 val\n",
      "Using 8 dataloader workers\n",
      "Logging results to \u001b[1mruns\\detect\\train23\u001b[0m\n",
      "Starting training for 60 epochs...\n",
      "\n",
      "      Epoch    GPU_mem   box_loss   cls_loss   dfl_loss  Instances       Size\n"
     ]
    },
    {
     "name": "stderr",
     "output_type": "stream",
     "text": [
      "       1/60      4.69G      1.376      2.543     0.9173        347        832:  50%|█████     | 19/38 [01:35<01:35,  5.01s/it]\n"
     ]
    },
    {
     "ename": "KeyboardInterrupt",
     "evalue": "",
     "output_type": "error",
     "traceback": [
      "\u001b[1;31m---------------------------------------------------------------------------\u001b[0m",
      "\u001b[1;31mKeyboardInterrupt\u001b[0m                         Traceback (most recent call last)",
      "Cell \u001b[1;32mIn[1], line 8\u001b[0m\n\u001b[0;32m      6\u001b[0m \u001b[38;5;66;03m# Cargar modelo YOLO\u001b[39;00m\n\u001b[0;32m      7\u001b[0m model \u001b[38;5;241m=\u001b[39m YOLO(\u001b[38;5;124m\"\u001b[39m\u001b[38;5;124myolov9s.pt\u001b[39m\u001b[38;5;124m\"\u001b[39m)  \n\u001b[1;32m----> 8\u001b[0m \u001b[43mmodel\u001b[49m\u001b[38;5;241;43m.\u001b[39;49m\u001b[43mtrain\u001b[49m\u001b[43m(\u001b[49m\u001b[43mdata\u001b[49m\u001b[38;5;241;43m=\u001b[39;49m\u001b[38;5;124;43m\"\u001b[39;49m\u001b[38;5;124;43mroboflow_data/data.yaml\u001b[39;49m\u001b[38;5;124;43m\"\u001b[39;49m\u001b[43m,\u001b[49m\u001b[43m \u001b[49m\u001b[43mepochs\u001b[49m\u001b[43m \u001b[49m\u001b[38;5;241;43m=\u001b[39;49m\u001b[43m \u001b[49m\u001b[38;5;241;43m60\u001b[39;49m\u001b[43m,\u001b[49m\u001b[43m \u001b[49m\u001b[43mimgsz\u001b[49m\u001b[38;5;241;43m=\u001b[39;49m\u001b[38;5;241;43m832\u001b[39;49m\u001b[43m,\u001b[49m\u001b[43m \u001b[49m\u001b[43mbatch\u001b[49m\u001b[38;5;241;43m=\u001b[39;49m\u001b[38;5;241;43m8\u001b[39;49m\u001b[43m,\u001b[49m\u001b[43m \u001b[49m\u001b[43mdevice\u001b[49m\u001b[38;5;241;43m=\u001b[39;49m\u001b[38;5;124;43m\"\u001b[39;49m\u001b[38;5;124;43mcuda\u001b[39;49m\u001b[38;5;124;43m\"\u001b[39;49m\u001b[43m)\u001b[49m\n\u001b[0;32m     10\u001b[0m results \u001b[38;5;241m=\u001b[39m model(\u001b[38;5;124m\"\u001b[39m\u001b[38;5;124mdatos/prueba1.mp4\u001b[39m\u001b[38;5;124m\"\u001b[39m, save\u001b[38;5;241m=\u001b[39m\u001b[38;5;28;01mTrue\u001b[39;00m)\n\u001b[0;32m     12\u001b[0m metrics \u001b[38;5;241m=\u001b[39m model\u001b[38;5;241m.\u001b[39mval()\n",
      "File \u001b[1;32mc:\\Users\\USUARIO\\AppData\\Local\\Programs\\Python\\Python311\\Lib\\site-packages\\ultralytics\\engine\\model.py:809\u001b[0m, in \u001b[0;36mModel.train\u001b[1;34m(self, trainer, **kwargs)\u001b[0m\n\u001b[0;32m    806\u001b[0m     \u001b[38;5;28mself\u001b[39m\u001b[38;5;241m.\u001b[39mmodel \u001b[38;5;241m=\u001b[39m \u001b[38;5;28mself\u001b[39m\u001b[38;5;241m.\u001b[39mtrainer\u001b[38;5;241m.\u001b[39mmodel\n\u001b[0;32m    808\u001b[0m \u001b[38;5;28mself\u001b[39m\u001b[38;5;241m.\u001b[39mtrainer\u001b[38;5;241m.\u001b[39mhub_session \u001b[38;5;241m=\u001b[39m \u001b[38;5;28mself\u001b[39m\u001b[38;5;241m.\u001b[39msession  \u001b[38;5;66;03m# attach optional HUB session\u001b[39;00m\n\u001b[1;32m--> 809\u001b[0m \u001b[38;5;28;43mself\u001b[39;49m\u001b[38;5;241;43m.\u001b[39;49m\u001b[43mtrainer\u001b[49m\u001b[38;5;241;43m.\u001b[39;49m\u001b[43mtrain\u001b[49m\u001b[43m(\u001b[49m\u001b[43m)\u001b[49m\n\u001b[0;32m    810\u001b[0m \u001b[38;5;66;03m# Update model and cfg after training\u001b[39;00m\n\u001b[0;32m    811\u001b[0m \u001b[38;5;28;01mif\u001b[39;00m RANK \u001b[38;5;129;01min\u001b[39;00m {\u001b[38;5;241m-\u001b[39m\u001b[38;5;241m1\u001b[39m, \u001b[38;5;241m0\u001b[39m}:\n",
      "File \u001b[1;32mc:\\Users\\USUARIO\\AppData\\Local\\Programs\\Python\\Python311\\Lib\\site-packages\\ultralytics\\engine\\trainer.py:208\u001b[0m, in \u001b[0;36mBaseTrainer.train\u001b[1;34m(self)\u001b[0m\n\u001b[0;32m    205\u001b[0m         ddp_cleanup(\u001b[38;5;28mself\u001b[39m, \u001b[38;5;28mstr\u001b[39m(file))\n\u001b[0;32m    207\u001b[0m \u001b[38;5;28;01melse\u001b[39;00m:\n\u001b[1;32m--> 208\u001b[0m     \u001b[38;5;28;43mself\u001b[39;49m\u001b[38;5;241;43m.\u001b[39;49m\u001b[43m_do_train\u001b[49m\u001b[43m(\u001b[49m\u001b[43mworld_size\u001b[49m\u001b[43m)\u001b[49m\n",
      "File \u001b[1;32mc:\\Users\\USUARIO\\AppData\\Local\\Programs\\Python\\Python311\\Lib\\site-packages\\ultralytics\\engine\\trainer.py:409\u001b[0m, in \u001b[0;36mBaseTrainer._do_train\u001b[1;34m(self, world_size)\u001b[0m\n\u001b[0;32m    407\u001b[0m \u001b[38;5;28;01mif\u001b[39;00m RANK \u001b[38;5;129;01min\u001b[39;00m {\u001b[38;5;241m-\u001b[39m\u001b[38;5;241m1\u001b[39m, \u001b[38;5;241m0\u001b[39m}:\n\u001b[0;32m    408\u001b[0m     loss_length \u001b[38;5;241m=\u001b[39m \u001b[38;5;28mself\u001b[39m\u001b[38;5;241m.\u001b[39mtloss\u001b[38;5;241m.\u001b[39mshape[\u001b[38;5;241m0\u001b[39m] \u001b[38;5;28;01mif\u001b[39;00m \u001b[38;5;28mlen\u001b[39m(\u001b[38;5;28mself\u001b[39m\u001b[38;5;241m.\u001b[39mtloss\u001b[38;5;241m.\u001b[39mshape) \u001b[38;5;28;01melse\u001b[39;00m \u001b[38;5;241m1\u001b[39m\n\u001b[1;32m--> 409\u001b[0m     \u001b[43mpbar\u001b[49m\u001b[38;5;241;43m.\u001b[39;49m\u001b[43mset_description\u001b[49m\u001b[43m(\u001b[49m\n\u001b[0;32m    410\u001b[0m \u001b[43m        \u001b[49m\u001b[43m(\u001b[49m\u001b[38;5;124;43m\"\u001b[39;49m\u001b[38;5;132;43;01m%11s\u001b[39;49;00m\u001b[38;5;124;43m\"\u001b[39;49m\u001b[43m \u001b[49m\u001b[38;5;241;43m*\u001b[39;49m\u001b[43m \u001b[49m\u001b[38;5;241;43m2\u001b[39;49m\u001b[43m \u001b[49m\u001b[38;5;241;43m+\u001b[39;49m\u001b[43m \u001b[49m\u001b[38;5;124;43m\"\u001b[39;49m\u001b[38;5;132;43;01m%11.4g\u001b[39;49;00m\u001b[38;5;124;43m\"\u001b[39;49m\u001b[43m \u001b[49m\u001b[38;5;241;43m*\u001b[39;49m\u001b[43m \u001b[49m\u001b[43m(\u001b[49m\u001b[38;5;241;43m2\u001b[39;49m\u001b[43m \u001b[49m\u001b[38;5;241;43m+\u001b[39;49m\u001b[43m \u001b[49m\u001b[43mloss_length\u001b[49m\u001b[43m)\u001b[49m\u001b[43m)\u001b[49m\n\u001b[0;32m    411\u001b[0m \u001b[43m        \u001b[49m\u001b[38;5;241;43m%\u001b[39;49m\u001b[43m \u001b[49m\u001b[43m(\u001b[49m\n\u001b[0;32m    412\u001b[0m \u001b[43m            \u001b[49m\u001b[38;5;124;43mf\u001b[39;49m\u001b[38;5;124;43m\"\u001b[39;49m\u001b[38;5;132;43;01m{\u001b[39;49;00m\u001b[43mepoch\u001b[49m\u001b[38;5;250;43m \u001b[39;49m\u001b[38;5;241;43m+\u001b[39;49m\u001b[38;5;250;43m \u001b[39;49m\u001b[38;5;241;43m1\u001b[39;49m\u001b[38;5;132;43;01m}\u001b[39;49;00m\u001b[38;5;124;43m/\u001b[39;49m\u001b[38;5;132;43;01m{\u001b[39;49;00m\u001b[38;5;28;43mself\u001b[39;49m\u001b[38;5;241;43m.\u001b[39;49m\u001b[43mepochs\u001b[49m\u001b[38;5;132;43;01m}\u001b[39;49;00m\u001b[38;5;124;43m\"\u001b[39;49m\u001b[43m,\u001b[49m\n\u001b[0;32m    413\u001b[0m \u001b[43m            \u001b[49m\u001b[38;5;124;43mf\u001b[39;49m\u001b[38;5;124;43m\"\u001b[39;49m\u001b[38;5;132;43;01m{\u001b[39;49;00m\u001b[38;5;28;43mself\u001b[39;49m\u001b[38;5;241;43m.\u001b[39;49m\u001b[43m_get_memory\u001b[49m\u001b[43m(\u001b[49m\u001b[43m)\u001b[49m\u001b[38;5;132;43;01m:\u001b[39;49;00m\u001b[38;5;124;43m.3g\u001b[39;49m\u001b[38;5;132;43;01m}\u001b[39;49;00m\u001b[38;5;124;43mG\u001b[39;49m\u001b[38;5;124;43m\"\u001b[39;49m\u001b[43m,\u001b[49m\u001b[43m  \u001b[49m\u001b[38;5;66;43;03m# (GB) GPU memory util\u001b[39;49;00m\n\u001b[0;32m    414\u001b[0m \u001b[43m            \u001b[49m\u001b[38;5;241;43m*\u001b[39;49m\u001b[43m(\u001b[49m\u001b[38;5;28;43mself\u001b[39;49m\u001b[38;5;241;43m.\u001b[39;49m\u001b[43mtloss\u001b[49m\u001b[43m \u001b[49m\u001b[38;5;28;43;01mif\u001b[39;49;00m\u001b[43m \u001b[49m\u001b[43mloss_length\u001b[49m\u001b[43m \u001b[49m\u001b[38;5;241;43m>\u001b[39;49m\u001b[43m \u001b[49m\u001b[38;5;241;43m1\u001b[39;49m\u001b[43m \u001b[49m\u001b[38;5;28;43;01melse\u001b[39;49;00m\u001b[43m \u001b[49m\u001b[43mtorch\u001b[49m\u001b[38;5;241;43m.\u001b[39;49m\u001b[43munsqueeze\u001b[49m\u001b[43m(\u001b[49m\u001b[38;5;28;43mself\u001b[39;49m\u001b[38;5;241;43m.\u001b[39;49m\u001b[43mtloss\u001b[49m\u001b[43m,\u001b[49m\u001b[43m \u001b[49m\u001b[38;5;241;43m0\u001b[39;49m\u001b[43m)\u001b[49m\u001b[43m)\u001b[49m\u001b[43m,\u001b[49m\u001b[43m  \u001b[49m\u001b[38;5;66;43;03m# losses\u001b[39;49;00m\n\u001b[0;32m    415\u001b[0m \u001b[43m            \u001b[49m\u001b[43mbatch\u001b[49m\u001b[43m[\u001b[49m\u001b[38;5;124;43m\"\u001b[39;49m\u001b[38;5;124;43mcls\u001b[39;49m\u001b[38;5;124;43m\"\u001b[39;49m\u001b[43m]\u001b[49m\u001b[38;5;241;43m.\u001b[39;49m\u001b[43mshape\u001b[49m\u001b[43m[\u001b[49m\u001b[38;5;241;43m0\u001b[39;49m\u001b[43m]\u001b[49m\u001b[43m,\u001b[49m\u001b[43m  \u001b[49m\u001b[38;5;66;43;03m# batch size, i.e. 8\u001b[39;49;00m\n\u001b[0;32m    416\u001b[0m \u001b[43m            \u001b[49m\u001b[43mbatch\u001b[49m\u001b[43m[\u001b[49m\u001b[38;5;124;43m\"\u001b[39;49m\u001b[38;5;124;43mimg\u001b[39;49m\u001b[38;5;124;43m\"\u001b[39;49m\u001b[43m]\u001b[49m\u001b[38;5;241;43m.\u001b[39;49m\u001b[43mshape\u001b[49m\u001b[43m[\u001b[49m\u001b[38;5;241;43m-\u001b[39;49m\u001b[38;5;241;43m1\u001b[39;49m\u001b[43m]\u001b[49m\u001b[43m,\u001b[49m\u001b[43m  \u001b[49m\u001b[38;5;66;43;03m# imgsz, i.e 640\u001b[39;49;00m\n\u001b[0;32m    417\u001b[0m \u001b[43m        \u001b[49m\u001b[43m)\u001b[49m\n\u001b[0;32m    418\u001b[0m \u001b[43m    \u001b[49m\u001b[43m)\u001b[49m\n\u001b[0;32m    419\u001b[0m     \u001b[38;5;28mself\u001b[39m\u001b[38;5;241m.\u001b[39mrun_callbacks(\u001b[38;5;124m\"\u001b[39m\u001b[38;5;124mon_batch_end\u001b[39m\u001b[38;5;124m\"\u001b[39m)\n\u001b[0;32m    420\u001b[0m     \u001b[38;5;28;01mif\u001b[39;00m \u001b[38;5;28mself\u001b[39m\u001b[38;5;241m.\u001b[39margs\u001b[38;5;241m.\u001b[39mplots \u001b[38;5;129;01mand\u001b[39;00m ni \u001b[38;5;129;01min\u001b[39;00m \u001b[38;5;28mself\u001b[39m\u001b[38;5;241m.\u001b[39mplot_idx:\n",
      "File \u001b[1;32mc:\\Users\\USUARIO\\AppData\\Local\\Programs\\Python\\Python311\\Lib\\site-packages\\tqdm\\std.py:1382\u001b[0m, in \u001b[0;36mtqdm.set_description\u001b[1;34m(self, desc, refresh)\u001b[0m\n\u001b[0;32m   1379\u001b[0m     \u001b[38;5;28mself\u001b[39m\u001b[38;5;241m.\u001b[39m_ema_miniters \u001b[38;5;241m=\u001b[39m EMA(\u001b[38;5;28mself\u001b[39m\u001b[38;5;241m.\u001b[39msmoothing)\n\u001b[0;32m   1380\u001b[0m     \u001b[38;5;28mself\u001b[39m\u001b[38;5;241m.\u001b[39mrefresh()\n\u001b[1;32m-> 1382\u001b[0m \u001b[38;5;28;01mdef\u001b[39;00m\u001b[38;5;250m \u001b[39m\u001b[38;5;21mset_description\u001b[39m(\u001b[38;5;28mself\u001b[39m, desc\u001b[38;5;241m=\u001b[39m\u001b[38;5;28;01mNone\u001b[39;00m, refresh\u001b[38;5;241m=\u001b[39m\u001b[38;5;28;01mTrue\u001b[39;00m):\n\u001b[0;32m   1383\u001b[0m \u001b[38;5;250m    \u001b[39m\u001b[38;5;124;03m\"\"\"\u001b[39;00m\n\u001b[0;32m   1384\u001b[0m \u001b[38;5;124;03m    Set/modify description of the progress bar.\u001b[39;00m\n\u001b[0;32m   1385\u001b[0m \n\u001b[1;32m   (...)\u001b[0m\n\u001b[0;32m   1390\u001b[0m \u001b[38;5;124;03m        Forces refresh [default: True].\u001b[39;00m\n\u001b[0;32m   1391\u001b[0m \u001b[38;5;124;03m    \"\"\"\u001b[39;00m\n\u001b[0;32m   1392\u001b[0m     \u001b[38;5;28mself\u001b[39m\u001b[38;5;241m.\u001b[39mdesc \u001b[38;5;241m=\u001b[39m desc \u001b[38;5;241m+\u001b[39m \u001b[38;5;124m'\u001b[39m\u001b[38;5;124m: \u001b[39m\u001b[38;5;124m'\u001b[39m \u001b[38;5;28;01mif\u001b[39;00m desc \u001b[38;5;28;01melse\u001b[39;00m \u001b[38;5;124m'\u001b[39m\u001b[38;5;124m'\u001b[39m\n",
      "\u001b[1;31mKeyboardInterrupt\u001b[0m: "
     ]
    }
   ],
   "source": [
    "import numpy as np\n",
    "import cv2\n",
    "from sklearn.cluster import KMeans\n",
    "from ultralytics import YOLO\n",
    "\n",
    "# Cargar modelo YOLO\n",
    "model = YOLO(\"yolov9s.pt\")  \n",
    "model.train(data=\"roboflow_data/data.yaml\", epochs = 60, imgsz=832, batch=8, device=\"cuda\")\n",
    "\n",
    "results = model(\"datos/prueba1.mp4\", save=True)\n",
    "\n",
    "metrics = model.val()\n",
    "print(metrics)\n",
    "\n",
    "\n"
   ]
  },
  {
   "cell_type": "code",
   "execution_count": 2,
   "metadata": {},
   "outputs": [
    {
     "name": "stderr",
     "output_type": "stream",
     "text": [
      "Exception ignored in: <bound method IPythonKernel._clean_thread_parent_frames of <ipykernel.ipkernel.IPythonKernel object at 0x000001C988AB8550>>\n",
      "Traceback (most recent call last):\n",
      "  File \"C:\\Users\\USUARIO\\AppData\\Roaming\\Python\\Python311\\site-packages\\ipykernel\\ipkernel.py\", line 775, in _clean_thread_parent_frames\n",
      "    def _clean_thread_parent_frames(\n",
      "\n",
      "KeyboardInterrupt: \n"
     ]
    },
    {
     "name": "stdout",
     "output_type": "stream",
     "text": [
      "Downloading https://github.com/ultralytics/assets/releases/download/v8.3.0/yolov9c.pt to 'yolov9c.pt'...\n"
     ]
    },
    {
     "name": "stderr",
     "output_type": "stream",
     "text": [
      "100%|██████████| 49.4M/49.4M [00:01<00:00, 32.7MB/s]\n"
     ]
    },
    {
     "name": "stdout",
     "output_type": "stream",
     "text": [
      "New https://pypi.org/project/ultralytics/8.3.97 available  Update with 'pip install -U ultralytics'\n",
      "Ultralytics 8.3.75  Python-3.11.3 torch-2.5.1+cu121 CUDA:0 (NVIDIA GeForce GTX 1050, 4096MiB)\n",
      "\u001b[34m\u001b[1mengine\\trainer: \u001b[0mtask=detect, mode=train, model=yolov9c.pt, data=roboflow_dataset_yolo9/data.yaml, epochs=80, time=None, patience=100, batch=8, imgsz=832, save=True, save_period=-1, cache=False, device=cuda, workers=8, project=None, name=train27, exist_ok=False, pretrained=True, optimizer=auto, verbose=True, seed=0, deterministic=True, single_cls=False, rect=False, cos_lr=False, close_mosaic=10, resume=False, amp=True, fraction=1.0, profile=False, freeze=None, multi_scale=False, overlap_mask=True, mask_ratio=4, dropout=0.0, val=True, split=val, save_json=False, save_hybrid=False, conf=None, iou=0.7, max_det=300, half=False, dnn=False, plots=True, source=None, vid_stride=1, stream_buffer=False, visualize=False, augment=False, agnostic_nms=False, classes=None, retina_masks=False, embed=None, show=False, save_frames=False, save_txt=False, save_conf=False, save_crop=False, show_labels=True, show_conf=True, show_boxes=True, line_width=None, format=torchscript, keras=False, optimize=False, int8=False, dynamic=False, simplify=True, opset=None, workspace=None, nms=False, lr0=0.01, lrf=0.01, momentum=0.937, weight_decay=0.0005, warmup_epochs=3.0, warmup_momentum=0.8, warmup_bias_lr=0.1, box=7.5, cls=0.5, dfl=1.5, pose=12.0, kobj=1.0, nbs=64, hsv_h=0.015, hsv_s=0.7, hsv_v=0.4, degrees=0.0, translate=0.1, scale=0.5, shear=0.0, perspective=0.0, flipud=0.0, fliplr=0.5, bgr=0.0, mosaic=1.0, mixup=0.0, copy_paste=0.0, copy_paste_mode=flip, auto_augment=randaugment, erasing=0.4, crop_fraction=1.0, cfg=None, tracker=botsort.yaml, save_dir=runs\\detect\\train27\n"
     ]
    },
    {
     "ename": "RuntimeError",
     "evalue": "Dataset 'roboflow_dataset_yolo9/data.yaml' error  'roboflow_dataset_yolo9/data.yaml' does not exist",
     "output_type": "error",
     "traceback": [
      "\u001b[1;31m---------------------------------------------------------------------------\u001b[0m",
      "\u001b[1;31mFileNotFoundError\u001b[0m                         Traceback (most recent call last)",
      "File \u001b[1;32mc:\\Users\\USUARIO\\AppData\\Local\\Programs\\Python\\Python311\\Lib\\site-packages\\ultralytics\\engine\\trainer.py:564\u001b[0m, in \u001b[0;36mBaseTrainer.get_dataset\u001b[1;34m(self)\u001b[0m\n\u001b[0;32m    558\u001b[0m \u001b[38;5;28;01melif\u001b[39;00m \u001b[38;5;28mself\u001b[39m\u001b[38;5;241m.\u001b[39margs\u001b[38;5;241m.\u001b[39mdata\u001b[38;5;241m.\u001b[39msplit(\u001b[38;5;124m\"\u001b[39m\u001b[38;5;124m.\u001b[39m\u001b[38;5;124m\"\u001b[39m)[\u001b[38;5;241m-\u001b[39m\u001b[38;5;241m1\u001b[39m] \u001b[38;5;129;01min\u001b[39;00m {\u001b[38;5;124m\"\u001b[39m\u001b[38;5;124myaml\u001b[39m\u001b[38;5;124m\"\u001b[39m, \u001b[38;5;124m\"\u001b[39m\u001b[38;5;124myml\u001b[39m\u001b[38;5;124m\"\u001b[39m} \u001b[38;5;129;01mor\u001b[39;00m \u001b[38;5;28mself\u001b[39m\u001b[38;5;241m.\u001b[39margs\u001b[38;5;241m.\u001b[39mtask \u001b[38;5;129;01min\u001b[39;00m {\n\u001b[0;32m    559\u001b[0m     \u001b[38;5;124m\"\u001b[39m\u001b[38;5;124mdetect\u001b[39m\u001b[38;5;124m\"\u001b[39m,\n\u001b[0;32m    560\u001b[0m     \u001b[38;5;124m\"\u001b[39m\u001b[38;5;124msegment\u001b[39m\u001b[38;5;124m\"\u001b[39m,\n\u001b[0;32m    561\u001b[0m     \u001b[38;5;124m\"\u001b[39m\u001b[38;5;124mpose\u001b[39m\u001b[38;5;124m\"\u001b[39m,\n\u001b[0;32m    562\u001b[0m     \u001b[38;5;124m\"\u001b[39m\u001b[38;5;124mobb\u001b[39m\u001b[38;5;124m\"\u001b[39m,\n\u001b[0;32m    563\u001b[0m }:\n\u001b[1;32m--> 564\u001b[0m     data \u001b[38;5;241m=\u001b[39m \u001b[43mcheck_det_dataset\u001b[49m\u001b[43m(\u001b[49m\u001b[38;5;28;43mself\u001b[39;49m\u001b[38;5;241;43m.\u001b[39;49m\u001b[43margs\u001b[49m\u001b[38;5;241;43m.\u001b[39;49m\u001b[43mdata\u001b[49m\u001b[43m)\u001b[49m\n\u001b[0;32m    565\u001b[0m     \u001b[38;5;28;01mif\u001b[39;00m \u001b[38;5;124m\"\u001b[39m\u001b[38;5;124myaml_file\u001b[39m\u001b[38;5;124m\"\u001b[39m \u001b[38;5;129;01min\u001b[39;00m data:\n",
      "File \u001b[1;32mc:\\Users\\USUARIO\\AppData\\Local\\Programs\\Python\\Python311\\Lib\\site-packages\\ultralytics\\data\\utils.py:316\u001b[0m, in \u001b[0;36mcheck_det_dataset\u001b[1;34m(dataset, autodownload)\u001b[0m\n\u001b[0;32m    302\u001b[0m \u001b[38;5;250m\u001b[39m\u001b[38;5;124;03m\"\"\"\u001b[39;00m\n\u001b[0;32m    303\u001b[0m \u001b[38;5;124;03mDownload, verify, and/or unzip a dataset if not found locally.\u001b[39;00m\n\u001b[0;32m    304\u001b[0m \n\u001b[1;32m   (...)\u001b[0m\n\u001b[0;32m    314\u001b[0m \u001b[38;5;124;03m    (dict): Parsed dataset information and paths.\u001b[39;00m\n\u001b[0;32m    315\u001b[0m \u001b[38;5;124;03m\"\"\"\u001b[39;00m\n\u001b[1;32m--> 316\u001b[0m file \u001b[38;5;241m=\u001b[39m \u001b[43mcheck_file\u001b[49m\u001b[43m(\u001b[49m\u001b[43mdataset\u001b[49m\u001b[43m)\u001b[49m\n\u001b[0;32m    318\u001b[0m \u001b[38;5;66;03m# Download (optional)\u001b[39;00m\n",
      "File \u001b[1;32mc:\\Users\\USUARIO\\AppData\\Local\\Programs\\Python\\Python311\\Lib\\site-packages\\ultralytics\\utils\\checks.py:522\u001b[0m, in \u001b[0;36mcheck_file\u001b[1;34m(file, suffix, download, download_dir, hard)\u001b[0m\n\u001b[0;32m    521\u001b[0m \u001b[38;5;28;01mif\u001b[39;00m \u001b[38;5;129;01mnot\u001b[39;00m files \u001b[38;5;129;01mand\u001b[39;00m hard:\n\u001b[1;32m--> 522\u001b[0m     \u001b[38;5;28;01mraise\u001b[39;00m \u001b[38;5;167;01mFileNotFoundError\u001b[39;00m(\u001b[38;5;124mf\u001b[39m\u001b[38;5;124m\"\u001b[39m\u001b[38;5;124m'\u001b[39m\u001b[38;5;132;01m{\u001b[39;00mfile\u001b[38;5;132;01m}\u001b[39;00m\u001b[38;5;124m'\u001b[39m\u001b[38;5;124m does not exist\u001b[39m\u001b[38;5;124m\"\u001b[39m)\n\u001b[0;32m    523\u001b[0m \u001b[38;5;28;01melif\u001b[39;00m \u001b[38;5;28mlen\u001b[39m(files) \u001b[38;5;241m>\u001b[39m \u001b[38;5;241m1\u001b[39m \u001b[38;5;129;01mand\u001b[39;00m hard:\n",
      "\u001b[1;31mFileNotFoundError\u001b[0m: 'roboflow_dataset_yolo9/data.yaml' does not exist",
      "\nThe above exception was the direct cause of the following exception:\n",
      "\u001b[1;31mRuntimeError\u001b[0m                              Traceback (most recent call last)",
      "Cell \u001b[1;32mIn[2], line 10\u001b[0m\n\u001b[0;32m      8\u001b[0m class_weights \u001b[38;5;241m=\u001b[39m [\u001b[38;5;241m3.0\u001b[39m, \u001b[38;5;241m1.0\u001b[39m, \u001b[38;5;241m1.0\u001b[39m, \u001b[38;5;241m1.0\u001b[39m]  \u001b[38;5;66;03m# El balón tiene más peso\u001b[39;00m\n\u001b[0;32m      9\u001b[0m \u001b[38;5;66;03m#entrenamiento\u001b[39;00m\n\u001b[1;32m---> 10\u001b[0m \u001b[43mmodel\u001b[49m\u001b[38;5;241;43m.\u001b[39;49m\u001b[43mtrain\u001b[49m\u001b[43m(\u001b[49m\u001b[43mdata\u001b[49m\u001b[38;5;241;43m=\u001b[39;49m\u001b[38;5;124;43m\"\u001b[39;49m\u001b[38;5;124;43mroboflow_dataset_yolo9/data.yaml\u001b[39;49m\u001b[38;5;124;43m\"\u001b[39;49m\u001b[43m,\u001b[49m\u001b[43m \u001b[49m\u001b[43mepochs\u001b[49m\u001b[43m \u001b[49m\u001b[38;5;241;43m=\u001b[39;49m\u001b[43m \u001b[49m\u001b[38;5;241;43m80\u001b[39;49m\u001b[43m,\u001b[49m\u001b[43m \u001b[49m\u001b[43mimgsz\u001b[49m\u001b[38;5;241;43m=\u001b[39;49m\u001b[38;5;241;43m832\u001b[39;49m\u001b[43m,\u001b[49m\u001b[43m \u001b[49m\u001b[43mbatch\u001b[49m\u001b[38;5;241;43m=\u001b[39;49m\u001b[38;5;241;43m8\u001b[39;49m\u001b[43m,\u001b[49m\u001b[43m \u001b[49m\u001b[43mdevice\u001b[49m\u001b[38;5;241;43m=\u001b[39;49m\u001b[38;5;124;43m\"\u001b[39;49m\u001b[38;5;124;43mcuda\u001b[39;49m\u001b[38;5;124;43m\"\u001b[39;49m\u001b[43m)\u001b[49m\n\u001b[0;32m     12\u001b[0m metrics \u001b[38;5;241m=\u001b[39m model\u001b[38;5;241m.\u001b[39mval()\n\u001b[0;32m     13\u001b[0m \u001b[38;5;28mprint\u001b[39m(metrics)\n",
      "File \u001b[1;32mc:\\Users\\USUARIO\\AppData\\Local\\Programs\\Python\\Python311\\Lib\\site-packages\\ultralytics\\engine\\model.py:803\u001b[0m, in \u001b[0;36mModel.train\u001b[1;34m(self, trainer, **kwargs)\u001b[0m\n\u001b[0;32m    800\u001b[0m \u001b[38;5;28;01mif\u001b[39;00m args\u001b[38;5;241m.\u001b[39mget(\u001b[38;5;124m\"\u001b[39m\u001b[38;5;124mresume\u001b[39m\u001b[38;5;124m\"\u001b[39m):\n\u001b[0;32m    801\u001b[0m     args[\u001b[38;5;124m\"\u001b[39m\u001b[38;5;124mresume\u001b[39m\u001b[38;5;124m\"\u001b[39m] \u001b[38;5;241m=\u001b[39m \u001b[38;5;28mself\u001b[39m\u001b[38;5;241m.\u001b[39mckpt_path\n\u001b[1;32m--> 803\u001b[0m \u001b[38;5;28mself\u001b[39m\u001b[38;5;241m.\u001b[39mtrainer \u001b[38;5;241m=\u001b[39m \u001b[43m(\u001b[49m\u001b[43mtrainer\u001b[49m\u001b[43m \u001b[49m\u001b[38;5;129;43;01mor\u001b[39;49;00m\u001b[43m \u001b[49m\u001b[38;5;28;43mself\u001b[39;49m\u001b[38;5;241;43m.\u001b[39;49m\u001b[43m_smart_load\u001b[49m\u001b[43m(\u001b[49m\u001b[38;5;124;43m\"\u001b[39;49m\u001b[38;5;124;43mtrainer\u001b[39;49m\u001b[38;5;124;43m\"\u001b[39;49m\u001b[43m)\u001b[49m\u001b[43m)\u001b[49m\u001b[43m(\u001b[49m\u001b[43moverrides\u001b[49m\u001b[38;5;241;43m=\u001b[39;49m\u001b[43margs\u001b[49m\u001b[43m,\u001b[49m\u001b[43m \u001b[49m\u001b[43m_callbacks\u001b[49m\u001b[38;5;241;43m=\u001b[39;49m\u001b[38;5;28;43mself\u001b[39;49m\u001b[38;5;241;43m.\u001b[39;49m\u001b[43mcallbacks\u001b[49m\u001b[43m)\u001b[49m\n\u001b[0;32m    804\u001b[0m \u001b[38;5;28;01mif\u001b[39;00m \u001b[38;5;129;01mnot\u001b[39;00m args\u001b[38;5;241m.\u001b[39mget(\u001b[38;5;124m\"\u001b[39m\u001b[38;5;124mresume\u001b[39m\u001b[38;5;124m\"\u001b[39m):  \u001b[38;5;66;03m# manually set model only if not resuming\u001b[39;00m\n\u001b[0;32m    805\u001b[0m     \u001b[38;5;28mself\u001b[39m\u001b[38;5;241m.\u001b[39mtrainer\u001b[38;5;241m.\u001b[39mmodel \u001b[38;5;241m=\u001b[39m \u001b[38;5;28mself\u001b[39m\u001b[38;5;241m.\u001b[39mtrainer\u001b[38;5;241m.\u001b[39mget_model(weights\u001b[38;5;241m=\u001b[39m\u001b[38;5;28mself\u001b[39m\u001b[38;5;241m.\u001b[39mmodel \u001b[38;5;28;01mif\u001b[39;00m \u001b[38;5;28mself\u001b[39m\u001b[38;5;241m.\u001b[39mckpt \u001b[38;5;28;01melse\u001b[39;00m \u001b[38;5;28;01mNone\u001b[39;00m, cfg\u001b[38;5;241m=\u001b[39m\u001b[38;5;28mself\u001b[39m\u001b[38;5;241m.\u001b[39mmodel\u001b[38;5;241m.\u001b[39myaml)\n",
      "File \u001b[1;32mc:\\Users\\USUARIO\\AppData\\Local\\Programs\\Python\\Python311\\Lib\\site-packages\\ultralytics\\engine\\trainer.py:134\u001b[0m, in \u001b[0;36mBaseTrainer.__init__\u001b[1;34m(self, cfg, overrides, _callbacks)\u001b[0m\n\u001b[0;32m    132\u001b[0m \u001b[38;5;28mself\u001b[39m\u001b[38;5;241m.\u001b[39mmodel \u001b[38;5;241m=\u001b[39m check_model_file_from_stem(\u001b[38;5;28mself\u001b[39m\u001b[38;5;241m.\u001b[39margs\u001b[38;5;241m.\u001b[39mmodel)  \u001b[38;5;66;03m# add suffix, i.e. yolo11n -> yolo11n.pt\u001b[39;00m\n\u001b[0;32m    133\u001b[0m \u001b[38;5;28;01mwith\u001b[39;00m torch_distributed_zero_first(LOCAL_RANK):  \u001b[38;5;66;03m# avoid auto-downloading dataset multiple times\u001b[39;00m\n\u001b[1;32m--> 134\u001b[0m     \u001b[38;5;28mself\u001b[39m\u001b[38;5;241m.\u001b[39mtrainset, \u001b[38;5;28mself\u001b[39m\u001b[38;5;241m.\u001b[39mtestset \u001b[38;5;241m=\u001b[39m \u001b[38;5;28;43mself\u001b[39;49m\u001b[38;5;241;43m.\u001b[39;49m\u001b[43mget_dataset\u001b[49m\u001b[43m(\u001b[49m\u001b[43m)\u001b[49m\n\u001b[0;32m    135\u001b[0m \u001b[38;5;28mself\u001b[39m\u001b[38;5;241m.\u001b[39mema \u001b[38;5;241m=\u001b[39m \u001b[38;5;28;01mNone\u001b[39;00m\n\u001b[0;32m    137\u001b[0m \u001b[38;5;66;03m# Optimization utils init\u001b[39;00m\n",
      "File \u001b[1;32mc:\\Users\\USUARIO\\AppData\\Local\\Programs\\Python\\Python311\\Lib\\site-packages\\ultralytics\\engine\\trainer.py:568\u001b[0m, in \u001b[0;36mBaseTrainer.get_dataset\u001b[1;34m(self)\u001b[0m\n\u001b[0;32m    566\u001b[0m             \u001b[38;5;28mself\u001b[39m\u001b[38;5;241m.\u001b[39margs\u001b[38;5;241m.\u001b[39mdata \u001b[38;5;241m=\u001b[39m data[\u001b[38;5;124m\"\u001b[39m\u001b[38;5;124myaml_file\u001b[39m\u001b[38;5;124m\"\u001b[39m]  \u001b[38;5;66;03m# for validating 'yolo train data=url.zip' usage\u001b[39;00m\n\u001b[0;32m    567\u001b[0m \u001b[38;5;28;01mexcept\u001b[39;00m \u001b[38;5;167;01mException\u001b[39;00m \u001b[38;5;28;01mas\u001b[39;00m e:\n\u001b[1;32m--> 568\u001b[0m     \u001b[38;5;28;01mraise\u001b[39;00m \u001b[38;5;167;01mRuntimeError\u001b[39;00m(emojis(\u001b[38;5;124mf\u001b[39m\u001b[38;5;124m\"\u001b[39m\u001b[38;5;124mDataset \u001b[39m\u001b[38;5;124m'\u001b[39m\u001b[38;5;132;01m{\u001b[39;00mclean_url(\u001b[38;5;28mself\u001b[39m\u001b[38;5;241m.\u001b[39margs\u001b[38;5;241m.\u001b[39mdata)\u001b[38;5;132;01m}\u001b[39;00m\u001b[38;5;124m'\u001b[39m\u001b[38;5;124m error ❌ \u001b[39m\u001b[38;5;132;01m{\u001b[39;00me\u001b[38;5;132;01m}\u001b[39;00m\u001b[38;5;124m\"\u001b[39m)) \u001b[38;5;28;01mfrom\u001b[39;00m\u001b[38;5;250m \u001b[39m\u001b[38;5;21;01me\u001b[39;00m\n\u001b[0;32m    569\u001b[0m \u001b[38;5;28mself\u001b[39m\u001b[38;5;241m.\u001b[39mdata \u001b[38;5;241m=\u001b[39m data\n\u001b[0;32m    570\u001b[0m \u001b[38;5;28;01mreturn\u001b[39;00m data[\u001b[38;5;124m\"\u001b[39m\u001b[38;5;124mtrain\u001b[39m\u001b[38;5;124m\"\u001b[39m], data\u001b[38;5;241m.\u001b[39mget(\u001b[38;5;124m\"\u001b[39m\u001b[38;5;124mval\u001b[39m\u001b[38;5;124m\"\u001b[39m) \u001b[38;5;129;01mor\u001b[39;00m data\u001b[38;5;241m.\u001b[39mget(\u001b[38;5;124m\"\u001b[39m\u001b[38;5;124mtest\u001b[39m\u001b[38;5;124m\"\u001b[39m)\n",
      "\u001b[1;31mRuntimeError\u001b[0m: Dataset 'roboflow_dataset_yolo9/data.yaml' error  'roboflow_dataset_yolo9/data.yaml' does not exist"
     ]
    }
   ],
   "source": [
    "import numpy as np\n",
    "import cv2\n",
    "from ultralytics import YOLO\n",
    "\n",
    "# Cargar modelo YOLO\n",
    "model = YOLO(\"yolov9c.pt\")\n",
    "# Ajustar pesos de clases manualmente\n",
    "class_weights = [3.0, 1.0, 1.0, 1.0]  # El balón tiene más peso\n",
    "#entrenamiento\n",
    "model.train(data=\"roboflow_dataset_yolo9/data.yaml\", epochs = 80, imgsz=832, batch=8, device=\"cuda\")\n",
    "\n",
    "metrics = model.val()\n",
    "print(metrics)"
   ]
  },
  {
   "cell_type": "code",
   "execution_count": 4,
   "metadata": {},
   "outputs": [
    {
     "name": "stdout",
     "output_type": "stream",
     "text": [
      "\n",
      "\n",
      "WARNING  inference results will accumulate in RAM unless `stream=True` is passed, causing potential out-of-memory\n",
      "errors for large sources or long-running streams and videos. See https://docs.ultralytics.com/modes/predict/ for help.\n",
      "\n",
      "Example:\n",
      "    results = model(source=..., stream=True)  # generator of Results objects\n",
      "    for r in results:\n",
      "        boxes = r.boxes  # Boxes object for bbox outputs\n",
      "        masks = r.masks  # Masks object for segment masks outputs\n",
      "        probs = r.probs  # Class probabilities for classification outputs\n",
      "\n",
      "video 1/1 (frame 1/750) c:\\Users\\USUARIO\\Documents\\UNIVERSIDAD\\6\\TFG INFORMTICA\\IA FUTBOL\\data\\video_test\\prueba2.mp4: 544x960 1 goalkeeper, 21 players, 4 referees, 246.9ms\n",
      "video 1/1 (frame 2/750) c:\\Users\\USUARIO\\Documents\\UNIVERSIDAD\\6\\TFG INFORMTICA\\IA FUTBOL\\data\\video_test\\prueba2.mp4: 544x960 21 players, 4 referees, 246.9ms\n",
      "video 1/1 (frame 3/750) c:\\Users\\USUARIO\\Documents\\UNIVERSIDAD\\6\\TFG INFORMTICA\\IA FUTBOL\\data\\video_test\\prueba2.mp4: 544x960 20 players, 4 referees, 246.9ms\n",
      "video 1/1 (frame 4/750) c:\\Users\\USUARIO\\Documents\\UNIVERSIDAD\\6\\TFG INFORMTICA\\IA FUTBOL\\data\\video_test\\prueba2.mp4: 544x960 1 goalkeeper, 18 players, 4 referees, 246.9ms\n",
      "video 1/1 (frame 5/750) c:\\Users\\USUARIO\\Documents\\UNIVERSIDAD\\6\\TFG INFORMTICA\\IA FUTBOL\\data\\video_test\\prueba2.mp4: 544x960 1 goalkeeper, 19 players, 3 referees, 246.9ms\n",
      "video 1/1 (frame 6/750) c:\\Users\\USUARIO\\Documents\\UNIVERSIDAD\\6\\TFG INFORMTICA\\IA FUTBOL\\data\\video_test\\prueba2.mp4: 544x960 1 goalkeeper, 21 players, 3 referees, 246.9ms\n",
      "video 1/1 (frame 7/750) c:\\Users\\USUARIO\\Documents\\UNIVERSIDAD\\6\\TFG INFORMTICA\\IA FUTBOL\\data\\video_test\\prueba2.mp4: 544x960 1 goalkeeper, 22 players, 3 referees, 246.9ms\n",
      "video 1/1 (frame 8/750) c:\\Users\\USUARIO\\Documents\\UNIVERSIDAD\\6\\TFG INFORMTICA\\IA FUTBOL\\data\\video_test\\prueba2.mp4: 544x960 21 players, 3 referees, 246.9ms\n",
      "video 1/1 (frame 9/750) c:\\Users\\USUARIO\\Documents\\UNIVERSIDAD\\6\\TFG INFORMTICA\\IA FUTBOL\\data\\video_test\\prueba2.mp4: 544x960 22 players, 3 referees, 246.9ms\n",
      "video 1/1 (frame 10/750) c:\\Users\\USUARIO\\Documents\\UNIVERSIDAD\\6\\TFG INFORMTICA\\IA FUTBOL\\data\\video_test\\prueba2.mp4: 544x960 20 players, 2 referees, 246.9ms\n",
      "video 1/1 (frame 11/750) c:\\Users\\USUARIO\\Documents\\UNIVERSIDAD\\6\\TFG INFORMTICA\\IA FUTBOL\\data\\video_test\\prueba2.mp4: 544x960 21 players, 2 referees, 246.9ms\n",
      "video 1/1 (frame 12/750) c:\\Users\\USUARIO\\Documents\\UNIVERSIDAD\\6\\TFG INFORMTICA\\IA FUTBOL\\data\\video_test\\prueba2.mp4: 544x960 20 players, 2 referees, 246.9ms\n",
      "video 1/1 (frame 13/750) c:\\Users\\USUARIO\\Documents\\UNIVERSIDAD\\6\\TFG INFORMTICA\\IA FUTBOL\\data\\video_test\\prueba2.mp4: 544x960 1 goalkeeper, 19 players, 2 referees, 246.9ms\n",
      "video 1/1 (frame 14/750) c:\\Users\\USUARIO\\Documents\\UNIVERSIDAD\\6\\TFG INFORMTICA\\IA FUTBOL\\data\\video_test\\prueba2.mp4: 544x960 1 goalkeeper, 20 players, 2 referees, 246.9ms\n",
      "video 1/1 (frame 15/750) c:\\Users\\USUARIO\\Documents\\UNIVERSIDAD\\6\\TFG INFORMTICA\\IA FUTBOL\\data\\video_test\\prueba2.mp4: 544x960 1 goalkeeper, 19 players, 2 referees, 246.9ms\n",
      "video 1/1 (frame 16/750) c:\\Users\\USUARIO\\Documents\\UNIVERSIDAD\\6\\TFG INFORMTICA\\IA FUTBOL\\data\\video_test\\prueba2.mp4: 544x960 1 ball, 1 goalkeeper, 19 players, 2 referees, 246.9ms\n",
      "video 1/1 (frame 17/750) c:\\Users\\USUARIO\\Documents\\UNIVERSIDAD\\6\\TFG INFORMTICA\\IA FUTBOL\\data\\video_test\\prueba2.mp4: 544x960 1 ball, 1 goalkeeper, 19 players, 2 referees, 246.9ms\n",
      "video 1/1 (frame 18/750) c:\\Users\\USUARIO\\Documents\\UNIVERSIDAD\\6\\TFG INFORMTICA\\IA FUTBOL\\data\\video_test\\prueba2.mp4: 544x960 1 goalkeeper, 20 players, 2 referees, 246.9ms\n",
      "video 1/1 (frame 19/750) c:\\Users\\USUARIO\\Documents\\UNIVERSIDAD\\6\\TFG INFORMTICA\\IA FUTBOL\\data\\video_test\\prueba2.mp4: 544x960 1 ball, 1 goalkeeper, 20 players, 2 referees, 246.9ms\n",
      "video 1/1 (frame 20/750) c:\\Users\\USUARIO\\Documents\\UNIVERSIDAD\\6\\TFG INFORMTICA\\IA FUTBOL\\data\\video_test\\prueba2.mp4: 544x960 1 ball, 1 goalkeeper, 20 players, 2 referees, 246.9ms\n",
      "video 1/1 (frame 21/750) c:\\Users\\USUARIO\\Documents\\UNIVERSIDAD\\6\\TFG INFORMTICA\\IA FUTBOL\\data\\video_test\\prueba2.mp4: 544x960 1 ball, 1 goalkeeper, 20 players, 2 referees, 218.1ms\n",
      "video 1/1 (frame 22/750) c:\\Users\\USUARIO\\Documents\\UNIVERSIDAD\\6\\TFG INFORMTICA\\IA FUTBOL\\data\\video_test\\prueba2.mp4: 544x960 1 goalkeeper, 20 players, 2 referees, 218.1ms\n",
      "video 1/1 (frame 23/750) c:\\Users\\USUARIO\\Documents\\UNIVERSIDAD\\6\\TFG INFORMTICA\\IA FUTBOL\\data\\video_test\\prueba2.mp4: 544x960 1 ball, 1 goalkeeper, 21 players, 1 referee, 218.1ms\n",
      "video 1/1 (frame 24/750) c:\\Users\\USUARIO\\Documents\\UNIVERSIDAD\\6\\TFG INFORMTICA\\IA FUTBOL\\data\\video_test\\prueba2.mp4: 544x960 1 goalkeeper, 20 players, 1 referee, 218.1ms\n",
      "video 1/1 (frame 25/750) c:\\Users\\USUARIO\\Documents\\UNIVERSIDAD\\6\\TFG INFORMTICA\\IA FUTBOL\\data\\video_test\\prueba2.mp4: 544x960 1 goalkeeper, 20 players, 2 referees, 218.1ms\n",
      "video 1/1 (frame 26/750) c:\\Users\\USUARIO\\Documents\\UNIVERSIDAD\\6\\TFG INFORMTICA\\IA FUTBOL\\data\\video_test\\prueba2.mp4: 544x960 1 ball, 1 goalkeeper, 19 players, 3 referees, 218.1ms\n",
      "video 1/1 (frame 27/750) c:\\Users\\USUARIO\\Documents\\UNIVERSIDAD\\6\\TFG INFORMTICA\\IA FUTBOL\\data\\video_test\\prueba2.mp4: 544x960 1 ball, 2 goalkeepers, 21 players, 3 referees, 218.1ms\n",
      "video 1/1 (frame 28/750) c:\\Users\\USUARIO\\Documents\\UNIVERSIDAD\\6\\TFG INFORMTICA\\IA FUTBOL\\data\\video_test\\prueba2.mp4: 544x960 1 goalkeeper, 20 players, 4 referees, 218.1ms\n",
      "video 1/1 (frame 29/750) c:\\Users\\USUARIO\\Documents\\UNIVERSIDAD\\6\\TFG INFORMTICA\\IA FUTBOL\\data\\video_test\\prueba2.mp4: 544x960 1 goalkeeper, 20 players, 4 referees, 218.1ms\n",
      "video 1/1 (frame 30/750) c:\\Users\\USUARIO\\Documents\\UNIVERSIDAD\\6\\TFG INFORMTICA\\IA FUTBOL\\data\\video_test\\prueba2.mp4: 544x960 1 goalkeeper, 22 players, 4 referees, 218.1ms\n",
      "video 1/1 (frame 31/750) c:\\Users\\USUARIO\\Documents\\UNIVERSIDAD\\6\\TFG INFORMTICA\\IA FUTBOL\\data\\video_test\\prueba2.mp4: 544x960 1 goalkeeper, 22 players, 4 referees, 218.1ms\n",
      "video 1/1 (frame 32/750) c:\\Users\\USUARIO\\Documents\\UNIVERSIDAD\\6\\TFG INFORMTICA\\IA FUTBOL\\data\\video_test\\prueba2.mp4: 544x960 1 goalkeeper, 21 players, 3 referees, 218.1ms\n",
      "video 1/1 (frame 33/750) c:\\Users\\USUARIO\\Documents\\UNIVERSIDAD\\6\\TFG INFORMTICA\\IA FUTBOL\\data\\video_test\\prueba2.mp4: 544x960 1 goalkeeper, 21 players, 4 referees, 218.1ms\n",
      "video 1/1 (frame 34/750) c:\\Users\\USUARIO\\Documents\\UNIVERSIDAD\\6\\TFG INFORMTICA\\IA FUTBOL\\data\\video_test\\prueba2.mp4: 544x960 1 goalkeeper, 21 players, 4 referees, 218.1ms\n",
      "video 1/1 (frame 35/750) c:\\Users\\USUARIO\\Documents\\UNIVERSIDAD\\6\\TFG INFORMTICA\\IA FUTBOL\\data\\video_test\\prueba2.mp4: 544x960 1 goalkeeper, 20 players, 4 referees, 218.1ms\n",
      "video 1/1 (frame 36/750) c:\\Users\\USUARIO\\Documents\\UNIVERSIDAD\\6\\TFG INFORMTICA\\IA FUTBOL\\data\\video_test\\prueba2.mp4: 544x960 1 goalkeeper, 20 players, 3 referees, 218.1ms\n",
      "video 1/1 (frame 37/750) c:\\Users\\USUARIO\\Documents\\UNIVERSIDAD\\6\\TFG INFORMTICA\\IA FUTBOL\\data\\video_test\\prueba2.mp4: 544x960 1 goalkeeper, 20 players, 3 referees, 218.1ms\n",
      "video 1/1 (frame 38/750) c:\\Users\\USUARIO\\Documents\\UNIVERSIDAD\\6\\TFG INFORMTICA\\IA FUTBOL\\data\\video_test\\prueba2.mp4: 544x960 1 ball, 1 goalkeeper, 21 players, 4 referees, 218.1ms\n",
      "video 1/1 (frame 39/750) c:\\Users\\USUARIO\\Documents\\UNIVERSIDAD\\6\\TFG INFORMTICA\\IA FUTBOL\\data\\video_test\\prueba2.mp4: 544x960 1 goalkeeper, 21 players, 4 referees, 218.1ms\n",
      "video 1/1 (frame 40/750) c:\\Users\\USUARIO\\Documents\\UNIVERSIDAD\\6\\TFG INFORMTICA\\IA FUTBOL\\data\\video_test\\prueba2.mp4: 544x960 1 goalkeeper, 20 players, 3 referees, 218.1ms\n",
      "video 1/1 (frame 41/750) c:\\Users\\USUARIO\\Documents\\UNIVERSIDAD\\6\\TFG INFORMTICA\\IA FUTBOL\\data\\video_test\\prueba2.mp4: 544x960 1 goalkeeper, 20 players, 3 referees, 213.3ms\n",
      "video 1/1 (frame 42/750) c:\\Users\\USUARIO\\Documents\\UNIVERSIDAD\\6\\TFG INFORMTICA\\IA FUTBOL\\data\\video_test\\prueba2.mp4: 544x960 1 goalkeeper, 20 players, 3 referees, 213.3ms\n",
      "video 1/1 (frame 43/750) c:\\Users\\USUARIO\\Documents\\UNIVERSIDAD\\6\\TFG INFORMTICA\\IA FUTBOL\\data\\video_test\\prueba2.mp4: 544x960 1 goalkeeper, 19 players, 4 referees, 213.3ms\n",
      "video 1/1 (frame 44/750) c:\\Users\\USUARIO\\Documents\\UNIVERSIDAD\\6\\TFG INFORMTICA\\IA FUTBOL\\data\\video_test\\prueba2.mp4: 544x960 1 goalkeeper, 19 players, 4 referees, 213.3ms\n",
      "video 1/1 (frame 45/750) c:\\Users\\USUARIO\\Documents\\UNIVERSIDAD\\6\\TFG INFORMTICA\\IA FUTBOL\\data\\video_test\\prueba2.mp4: 544x960 1 goalkeeper, 20 players, 4 referees, 213.3ms\n",
      "video 1/1 (frame 46/750) c:\\Users\\USUARIO\\Documents\\UNIVERSIDAD\\6\\TFG INFORMTICA\\IA FUTBOL\\data\\video_test\\prueba2.mp4: 544x960 1 goalkeeper, 20 players, 4 referees, 213.3ms\n",
      "video 1/1 (frame 47/750) c:\\Users\\USUARIO\\Documents\\UNIVERSIDAD\\6\\TFG INFORMTICA\\IA FUTBOL\\data\\video_test\\prueba2.mp4: 544x960 1 goalkeeper, 19 players, 3 referees, 213.3ms\n",
      "video 1/1 (frame 48/750) c:\\Users\\USUARIO\\Documents\\UNIVERSIDAD\\6\\TFG INFORMTICA\\IA FUTBOL\\data\\video_test\\prueba2.mp4: 544x960 1 goalkeeper, 21 players, 4 referees, 213.3ms\n",
      "video 1/1 (frame 49/750) c:\\Users\\USUARIO\\Documents\\UNIVERSIDAD\\6\\TFG INFORMTICA\\IA FUTBOL\\data\\video_test\\prueba2.mp4: 544x960 1 goalkeeper, 20 players, 3 referees, 213.3ms\n",
      "video 1/1 (frame 50/750) c:\\Users\\USUARIO\\Documents\\UNIVERSIDAD\\6\\TFG INFORMTICA\\IA FUTBOL\\data\\video_test\\prueba2.mp4: 544x960 1 goalkeeper, 20 players, 3 referees, 213.3ms\n",
      "video 1/1 (frame 51/750) c:\\Users\\USUARIO\\Documents\\UNIVERSIDAD\\6\\TFG INFORMTICA\\IA FUTBOL\\data\\video_test\\prueba2.mp4: 544x960 1 goalkeeper, 19 players, 4 referees, 213.3ms\n",
      "video 1/1 (frame 52/750) c:\\Users\\USUARIO\\Documents\\UNIVERSIDAD\\6\\TFG INFORMTICA\\IA FUTBOL\\data\\video_test\\prueba2.mp4: 544x960 1 goalkeeper, 19 players, 4 referees, 213.3ms\n",
      "video 1/1 (frame 53/750) c:\\Users\\USUARIO\\Documents\\UNIVERSIDAD\\6\\TFG INFORMTICA\\IA FUTBOL\\data\\video_test\\prueba2.mp4: 544x960 20 players, 2 referees, 213.3ms\n",
      "video 1/1 (frame 54/750) c:\\Users\\USUARIO\\Documents\\UNIVERSIDAD\\6\\TFG INFORMTICA\\IA FUTBOL\\data\\video_test\\prueba2.mp4: 544x960 1 goalkeeper, 20 players, 2 referees, 213.3ms\n",
      "video 1/1 (frame 55/750) c:\\Users\\USUARIO\\Documents\\UNIVERSIDAD\\6\\TFG INFORMTICA\\IA FUTBOL\\data\\video_test\\prueba2.mp4: 544x960 1 goalkeeper, 20 players, 2 referees, 213.3ms\n",
      "video 1/1 (frame 56/750) c:\\Users\\USUARIO\\Documents\\UNIVERSIDAD\\6\\TFG INFORMTICA\\IA FUTBOL\\data\\video_test\\prueba2.mp4: 544x960 1 goalkeeper, 20 players, 3 referees, 213.3ms\n",
      "video 1/1 (frame 57/750) c:\\Users\\USUARIO\\Documents\\UNIVERSIDAD\\6\\TFG INFORMTICA\\IA FUTBOL\\data\\video_test\\prueba2.mp4: 544x960 1 goalkeeper, 19 players, 2 referees, 213.3ms\n",
      "video 1/1 (frame 58/750) c:\\Users\\USUARIO\\Documents\\UNIVERSIDAD\\6\\TFG INFORMTICA\\IA FUTBOL\\data\\video_test\\prueba2.mp4: 544x960 1 goalkeeper, 21 players, 3 referees, 213.3ms\n",
      "video 1/1 (frame 59/750) c:\\Users\\USUARIO\\Documents\\UNIVERSIDAD\\6\\TFG INFORMTICA\\IA FUTBOL\\data\\video_test\\prueba2.mp4: 544x960 1 goalkeeper, 19 players, 3 referees, 213.3ms\n",
      "video 1/1 (frame 60/750) c:\\Users\\USUARIO\\Documents\\UNIVERSIDAD\\6\\TFG INFORMTICA\\IA FUTBOL\\data\\video_test\\prueba2.mp4: 544x960 1 goalkeeper, 20 players, 4 referees, 213.3ms\n",
      "video 1/1 (frame 61/750) c:\\Users\\USUARIO\\Documents\\UNIVERSIDAD\\6\\TFG INFORMTICA\\IA FUTBOL\\data\\video_test\\prueba2.mp4: 544x960 1 goalkeeper, 20 players, 3 referees, 211.9ms\n",
      "video 1/1 (frame 62/750) c:\\Users\\USUARIO\\Documents\\UNIVERSIDAD\\6\\TFG INFORMTICA\\IA FUTBOL\\data\\video_test\\prueba2.mp4: 544x960 1 goalkeeper, 20 players, 3 referees, 211.9ms\n",
      "video 1/1 (frame 63/750) c:\\Users\\USUARIO\\Documents\\UNIVERSIDAD\\6\\TFG INFORMTICA\\IA FUTBOL\\data\\video_test\\prueba2.mp4: 544x960 1 ball, 1 goalkeeper, 20 players, 5 referees, 211.9ms\n",
      "video 1/1 (frame 64/750) c:\\Users\\USUARIO\\Documents\\UNIVERSIDAD\\6\\TFG INFORMTICA\\IA FUTBOL\\data\\video_test\\prueba2.mp4: 544x960 1 goalkeeper, 20 players, 2 referees, 211.9ms\n",
      "video 1/1 (frame 65/750) c:\\Users\\USUARIO\\Documents\\UNIVERSIDAD\\6\\TFG INFORMTICA\\IA FUTBOL\\data\\video_test\\prueba2.mp4: 544x960 1 goalkeeper, 21 players, 3 referees, 211.9ms\n",
      "video 1/1 (frame 66/750) c:\\Users\\USUARIO\\Documents\\UNIVERSIDAD\\6\\TFG INFORMTICA\\IA FUTBOL\\data\\video_test\\prueba2.mp4: 544x960 1 goalkeeper, 21 players, 3 referees, 211.9ms\n",
      "video 1/1 (frame 67/750) c:\\Users\\USUARIO\\Documents\\UNIVERSIDAD\\6\\TFG INFORMTICA\\IA FUTBOL\\data\\video_test\\prueba2.mp4: 544x960 1 goalkeeper, 21 players, 3 referees, 211.9ms\n",
      "video 1/1 (frame 68/750) c:\\Users\\USUARIO\\Documents\\UNIVERSIDAD\\6\\TFG INFORMTICA\\IA FUTBOL\\data\\video_test\\prueba2.mp4: 544x960 1 ball, 1 goalkeeper, 21 players, 3 referees, 211.9ms\n",
      "video 1/1 (frame 69/750) c:\\Users\\USUARIO\\Documents\\UNIVERSIDAD\\6\\TFG INFORMTICA\\IA FUTBOL\\data\\video_test\\prueba2.mp4: 544x960 1 ball, 2 goalkeepers, 21 players, 3 referees, 211.9ms\n",
      "video 1/1 (frame 70/750) c:\\Users\\USUARIO\\Documents\\UNIVERSIDAD\\6\\TFG INFORMTICA\\IA FUTBOL\\data\\video_test\\prueba2.mp4: 544x960 1 ball, 2 goalkeepers, 21 players, 3 referees, 211.9ms\n",
      "video 1/1 (frame 71/750) c:\\Users\\USUARIO\\Documents\\UNIVERSIDAD\\6\\TFG INFORMTICA\\IA FUTBOL\\data\\video_test\\prueba2.mp4: 544x960 1 goalkeeper, 20 players, 3 referees, 211.9ms\n",
      "video 1/1 (frame 72/750) c:\\Users\\USUARIO\\Documents\\UNIVERSIDAD\\6\\TFG INFORMTICA\\IA FUTBOL\\data\\video_test\\prueba2.mp4: 544x960 1 goalkeeper, 20 players, 2 referees, 211.9ms\n",
      "video 1/1 (frame 73/750) c:\\Users\\USUARIO\\Documents\\UNIVERSIDAD\\6\\TFG INFORMTICA\\IA FUTBOL\\data\\video_test\\prueba2.mp4: 544x960 1 ball, 1 goalkeeper, 22 players, 2 referees, 211.9ms\n",
      "video 1/1 (frame 74/750) c:\\Users\\USUARIO\\Documents\\UNIVERSIDAD\\6\\TFG INFORMTICA\\IA FUTBOL\\data\\video_test\\prueba2.mp4: 544x960 1 ball, 2 goalkeepers, 22 players, 2 referees, 211.9ms\n",
      "video 1/1 (frame 75/750) c:\\Users\\USUARIO\\Documents\\UNIVERSIDAD\\6\\TFG INFORMTICA\\IA FUTBOL\\data\\video_test\\prueba2.mp4: 544x960 1 ball, 1 goalkeeper, 20 players, 2 referees, 211.9ms\n",
      "video 1/1 (frame 76/750) c:\\Users\\USUARIO\\Documents\\UNIVERSIDAD\\6\\TFG INFORMTICA\\IA FUTBOL\\data\\video_test\\prueba2.mp4: 544x960 1 ball, 2 goalkeepers, 20 players, 2 referees, 211.9ms\n",
      "video 1/1 (frame 77/750) c:\\Users\\USUARIO\\Documents\\UNIVERSIDAD\\6\\TFG INFORMTICA\\IA FUTBOL\\data\\video_test\\prueba2.mp4: 544x960 1 ball, 2 goalkeepers, 20 players, 3 referees, 211.9ms\n",
      "video 1/1 (frame 78/750) c:\\Users\\USUARIO\\Documents\\UNIVERSIDAD\\6\\TFG INFORMTICA\\IA FUTBOL\\data\\video_test\\prueba2.mp4: 544x960 2 goalkeepers, 20 players, 2 referees, 211.9ms\n",
      "video 1/1 (frame 79/750) c:\\Users\\USUARIO\\Documents\\UNIVERSIDAD\\6\\TFG INFORMTICA\\IA FUTBOL\\data\\video_test\\prueba2.mp4: 544x960 1 ball, 2 goalkeepers, 20 players, 2 referees, 211.9ms\n",
      "video 1/1 (frame 80/750) c:\\Users\\USUARIO\\Documents\\UNIVERSIDAD\\6\\TFG INFORMTICA\\IA FUTBOL\\data\\video_test\\prueba2.mp4: 544x960 1 goalkeeper, 21 players, 3 referees, 211.9ms\n",
      "video 1/1 (frame 81/750) c:\\Users\\USUARIO\\Documents\\UNIVERSIDAD\\6\\TFG INFORMTICA\\IA FUTBOL\\data\\video_test\\prueba2.mp4: 544x960 1 goalkeeper, 21 players, 2 referees, 250.3ms\n",
      "video 1/1 (frame 82/750) c:\\Users\\USUARIO\\Documents\\UNIVERSIDAD\\6\\TFG INFORMTICA\\IA FUTBOL\\data\\video_test\\prueba2.mp4: 544x960 1 goalkeeper, 20 players, 3 referees, 250.3ms\n",
      "video 1/1 (frame 83/750) c:\\Users\\USUARIO\\Documents\\UNIVERSIDAD\\6\\TFG INFORMTICA\\IA FUTBOL\\data\\video_test\\prueba2.mp4: 544x960 1 goalkeeper, 22 players, 2 referees, 250.3ms\n",
      "video 1/1 (frame 84/750) c:\\Users\\USUARIO\\Documents\\UNIVERSIDAD\\6\\TFG INFORMTICA\\IA FUTBOL\\data\\video_test\\prueba2.mp4: 544x960 1 goalkeeper, 22 players, 4 referees, 250.3ms\n",
      "video 1/1 (frame 85/750) c:\\Users\\USUARIO\\Documents\\UNIVERSIDAD\\6\\TFG INFORMTICA\\IA FUTBOL\\data\\video_test\\prueba2.mp4: 544x960 1 goalkeeper, 20 players, 3 referees, 250.3ms\n",
      "video 1/1 (frame 86/750) c:\\Users\\USUARIO\\Documents\\UNIVERSIDAD\\6\\TFG INFORMTICA\\IA FUTBOL\\data\\video_test\\prueba2.mp4: 544x960 2 balls, 1 goalkeeper, 21 players, 4 referees, 250.3ms\n",
      "video 1/1 (frame 87/750) c:\\Users\\USUARIO\\Documents\\UNIVERSIDAD\\6\\TFG INFORMTICA\\IA FUTBOL\\data\\video_test\\prueba2.mp4: 544x960 1 goalkeeper, 20 players, 4 referees, 250.3ms\n",
      "video 1/1 (frame 88/750) c:\\Users\\USUARIO\\Documents\\UNIVERSIDAD\\6\\TFG INFORMTICA\\IA FUTBOL\\data\\video_test\\prueba2.mp4: 544x960 1 goalkeeper, 20 players, 3 referees, 250.3ms\n",
      "video 1/1 (frame 89/750) c:\\Users\\USUARIO\\Documents\\UNIVERSIDAD\\6\\TFG INFORMTICA\\IA FUTBOL\\data\\video_test\\prueba2.mp4: 544x960 1 ball, 1 goalkeeper, 20 players, 3 referees, 250.3ms\n",
      "video 1/1 (frame 90/750) c:\\Users\\USUARIO\\Documents\\UNIVERSIDAD\\6\\TFG INFORMTICA\\IA FUTBOL\\data\\video_test\\prueba2.mp4: 544x960 1 ball, 1 goalkeeper, 21 players, 4 referees, 250.3ms\n",
      "video 1/1 (frame 91/750) c:\\Users\\USUARIO\\Documents\\UNIVERSIDAD\\6\\TFG INFORMTICA\\IA FUTBOL\\data\\video_test\\prueba2.mp4: 544x960 1 goalkeeper, 21 players, 3 referees, 250.3ms\n",
      "video 1/1 (frame 92/750) c:\\Users\\USUARIO\\Documents\\UNIVERSIDAD\\6\\TFG INFORMTICA\\IA FUTBOL\\data\\video_test\\prueba2.mp4: 544x960 1 goalkeeper, 20 players, 4 referees, 250.3ms\n",
      "video 1/1 (frame 93/750) c:\\Users\\USUARIO\\Documents\\UNIVERSIDAD\\6\\TFG INFORMTICA\\IA FUTBOL\\data\\video_test\\prueba2.mp4: 544x960 1 ball, 1 goalkeeper, 21 players, 4 referees, 250.3ms\n",
      "video 1/1 (frame 94/750) c:\\Users\\USUARIO\\Documents\\UNIVERSIDAD\\6\\TFG INFORMTICA\\IA FUTBOL\\data\\video_test\\prueba2.mp4: 544x960 1 goalkeeper, 21 players, 2 referees, 250.3ms\n",
      "video 1/1 (frame 95/750) c:\\Users\\USUARIO\\Documents\\UNIVERSIDAD\\6\\TFG INFORMTICA\\IA FUTBOL\\data\\video_test\\prueba2.mp4: 544x960 1 goalkeeper, 21 players, 5 referees, 250.3ms\n",
      "video 1/1 (frame 96/750) c:\\Users\\USUARIO\\Documents\\UNIVERSIDAD\\6\\TFG INFORMTICA\\IA FUTBOL\\data\\video_test\\prueba2.mp4: 544x960 1 goalkeeper, 21 players, 6 referees, 250.3ms\n",
      "video 1/1 (frame 97/750) c:\\Users\\USUARIO\\Documents\\UNIVERSIDAD\\6\\TFG INFORMTICA\\IA FUTBOL\\data\\video_test\\prueba2.mp4: 544x960 1 ball, 1 goalkeeper, 21 players, 6 referees, 250.3ms\n",
      "video 1/1 (frame 98/750) c:\\Users\\USUARIO\\Documents\\UNIVERSIDAD\\6\\TFG INFORMTICA\\IA FUTBOL\\data\\video_test\\prueba2.mp4: 544x960 1 goalkeeper, 19 players, 3 referees, 250.3ms\n",
      "video 1/1 (frame 99/750) c:\\Users\\USUARIO\\Documents\\UNIVERSIDAD\\6\\TFG INFORMTICA\\IA FUTBOL\\data\\video_test\\prueba2.mp4: 544x960 1 ball, 1 goalkeeper, 19 players, 4 referees, 250.3ms\n",
      "video 1/1 (frame 100/750) c:\\Users\\USUARIO\\Documents\\UNIVERSIDAD\\6\\TFG INFORMTICA\\IA FUTBOL\\data\\video_test\\prueba2.mp4: 544x960 1 ball, 1 goalkeeper, 20 players, 4 referees, 250.3ms\n",
      "video 1/1 (frame 101/750) c:\\Users\\USUARIO\\Documents\\UNIVERSIDAD\\6\\TFG INFORMTICA\\IA FUTBOL\\data\\video_test\\prueba2.mp4: 544x960 1 goalkeeper, 21 players, 3 referees, 231.0ms\n",
      "video 1/1 (frame 102/750) c:\\Users\\USUARIO\\Documents\\UNIVERSIDAD\\6\\TFG INFORMTICA\\IA FUTBOL\\data\\video_test\\prueba2.mp4: 544x960 1 goalkeeper, 20 players, 3 referees, 231.0ms\n",
      "video 1/1 (frame 103/750) c:\\Users\\USUARIO\\Documents\\UNIVERSIDAD\\6\\TFG INFORMTICA\\IA FUTBOL\\data\\video_test\\prueba2.mp4: 544x960 1 goalkeeper, 19 players, 3 referees, 231.0ms\n",
      "video 1/1 (frame 104/750) c:\\Users\\USUARIO\\Documents\\UNIVERSIDAD\\6\\TFG INFORMTICA\\IA FUTBOL\\data\\video_test\\prueba2.mp4: 544x960 1 ball, 1 goalkeeper, 19 players, 2 referees, 231.0ms\n",
      "video 1/1 (frame 105/750) c:\\Users\\USUARIO\\Documents\\UNIVERSIDAD\\6\\TFG INFORMTICA\\IA FUTBOL\\data\\video_test\\prueba2.mp4: 544x960 2 balls, 1 goalkeeper, 19 players, 3 referees, 231.0ms\n",
      "video 1/1 (frame 106/750) c:\\Users\\USUARIO\\Documents\\UNIVERSIDAD\\6\\TFG INFORMTICA\\IA FUTBOL\\data\\video_test\\prueba2.mp4: 544x960 1 ball, 1 goalkeeper, 19 players, 3 referees, 231.0ms\n",
      "video 1/1 (frame 107/750) c:\\Users\\USUARIO\\Documents\\UNIVERSIDAD\\6\\TFG INFORMTICA\\IA FUTBOL\\data\\video_test\\prueba2.mp4: 544x960 1 goalkeeper, 19 players, 3 referees, 231.0ms\n",
      "video 1/1 (frame 108/750) c:\\Users\\USUARIO\\Documents\\UNIVERSIDAD\\6\\TFG INFORMTICA\\IA FUTBOL\\data\\video_test\\prueba2.mp4: 544x960 1 goalkeeper, 19 players, 4 referees, 231.0ms\n",
      "video 1/1 (frame 109/750) c:\\Users\\USUARIO\\Documents\\UNIVERSIDAD\\6\\TFG INFORMTICA\\IA FUTBOL\\data\\video_test\\prueba2.mp4: 544x960 1 goalkeeper, 20 players, 3 referees, 231.0ms\n",
      "video 1/1 (frame 110/750) c:\\Users\\USUARIO\\Documents\\UNIVERSIDAD\\6\\TFG INFORMTICA\\IA FUTBOL\\data\\video_test\\prueba2.mp4: 544x960 1 goalkeeper, 20 players, 2 referees, 231.0ms\n",
      "video 1/1 (frame 111/750) c:\\Users\\USUARIO\\Documents\\UNIVERSIDAD\\6\\TFG INFORMTICA\\IA FUTBOL\\data\\video_test\\prueba2.mp4: 544x960 1 ball, 1 goalkeeper, 21 players, 2 referees, 231.0ms\n",
      "video 1/1 (frame 112/750) c:\\Users\\USUARIO\\Documents\\UNIVERSIDAD\\6\\TFG INFORMTICA\\IA FUTBOL\\data\\video_test\\prueba2.mp4: 544x960 1 ball, 1 goalkeeper, 20 players, 2 referees, 231.0ms\n",
      "video 1/1 (frame 113/750) c:\\Users\\USUARIO\\Documents\\UNIVERSIDAD\\6\\TFG INFORMTICA\\IA FUTBOL\\data\\video_test\\prueba2.mp4: 544x960 1 goalkeeper, 21 players, 3 referees, 231.0ms\n",
      "video 1/1 (frame 114/750) c:\\Users\\USUARIO\\Documents\\UNIVERSIDAD\\6\\TFG INFORMTICA\\IA FUTBOL\\data\\video_test\\prueba2.mp4: 544x960 1 goalkeeper, 20 players, 2 referees, 231.0ms\n",
      "video 1/1 (frame 115/750) c:\\Users\\USUARIO\\Documents\\UNIVERSIDAD\\6\\TFG INFORMTICA\\IA FUTBOL\\data\\video_test\\prueba2.mp4: 544x960 1 ball, 1 goalkeeper, 20 players, 3 referees, 231.0ms\n",
      "video 1/1 (frame 116/750) c:\\Users\\USUARIO\\Documents\\UNIVERSIDAD\\6\\TFG INFORMTICA\\IA FUTBOL\\data\\video_test\\prueba2.mp4: 544x960 1 ball, 1 goalkeeper, 21 players, 2 referees, 231.0ms\n",
      "video 1/1 (frame 117/750) c:\\Users\\USUARIO\\Documents\\UNIVERSIDAD\\6\\TFG INFORMTICA\\IA FUTBOL\\data\\video_test\\prueba2.mp4: 544x960 1 goalkeeper, 20 players, 1 referee, 231.0ms\n",
      "video 1/1 (frame 118/750) c:\\Users\\USUARIO\\Documents\\UNIVERSIDAD\\6\\TFG INFORMTICA\\IA FUTBOL\\data\\video_test\\prueba2.mp4: 544x960 1 ball, 1 goalkeeper, 21 players, 2 referees, 231.0ms\n",
      "video 1/1 (frame 119/750) c:\\Users\\USUARIO\\Documents\\UNIVERSIDAD\\6\\TFG INFORMTICA\\IA FUTBOL\\data\\video_test\\prueba2.mp4: 544x960 1 ball, 1 goalkeeper, 20 players, 2 referees, 231.0ms\n",
      "video 1/1 (frame 120/750) c:\\Users\\USUARIO\\Documents\\UNIVERSIDAD\\6\\TFG INFORMTICA\\IA FUTBOL\\data\\video_test\\prueba2.mp4: 544x960 2 balls, 1 goalkeeper, 21 players, 1 referee, 231.0ms\n",
      "video 1/1 (frame 121/750) c:\\Users\\USUARIO\\Documents\\UNIVERSIDAD\\6\\TFG INFORMTICA\\IA FUTBOL\\data\\video_test\\prueba2.mp4: 544x960 1 ball, 1 goalkeeper, 20 players, 1 referee, 228.1ms\n",
      "video 1/1 (frame 122/750) c:\\Users\\USUARIO\\Documents\\UNIVERSIDAD\\6\\TFG INFORMTICA\\IA FUTBOL\\data\\video_test\\prueba2.mp4: 544x960 1 goalkeeper, 20 players, 1 referee, 228.1ms\n",
      "video 1/1 (frame 123/750) c:\\Users\\USUARIO\\Documents\\UNIVERSIDAD\\6\\TFG INFORMTICA\\IA FUTBOL\\data\\video_test\\prueba2.mp4: 544x960 1 goalkeeper, 20 players, 2 referees, 228.1ms\n",
      "video 1/1 (frame 124/750) c:\\Users\\USUARIO\\Documents\\UNIVERSIDAD\\6\\TFG INFORMTICA\\IA FUTBOL\\data\\video_test\\prueba2.mp4: 544x960 1 goalkeeper, 20 players, 2 referees, 228.1ms\n",
      "video 1/1 (frame 125/750) c:\\Users\\USUARIO\\Documents\\UNIVERSIDAD\\6\\TFG INFORMTICA\\IA FUTBOL\\data\\video_test\\prueba2.mp4: 544x960 1 goalkeeper, 19 players, 2 referees, 228.1ms\n",
      "video 1/1 (frame 126/750) c:\\Users\\USUARIO\\Documents\\UNIVERSIDAD\\6\\TFG INFORMTICA\\IA FUTBOL\\data\\video_test\\prueba2.mp4: 544x960 1 goalkeeper, 19 players, 2 referees, 228.1ms\n",
      "video 1/1 (frame 127/750) c:\\Users\\USUARIO\\Documents\\UNIVERSIDAD\\6\\TFG INFORMTICA\\IA FUTBOL\\data\\video_test\\prueba2.mp4: 544x960 1 goalkeeper, 20 players, 2 referees, 228.1ms\n",
      "video 1/1 (frame 128/750) c:\\Users\\USUARIO\\Documents\\UNIVERSIDAD\\6\\TFG INFORMTICA\\IA FUTBOL\\data\\video_test\\prueba2.mp4: 544x960 1 goalkeeper, 19 players, 2 referees, 228.1ms\n",
      "video 1/1 (frame 129/750) c:\\Users\\USUARIO\\Documents\\UNIVERSIDAD\\6\\TFG INFORMTICA\\IA FUTBOL\\data\\video_test\\prueba2.mp4: 544x960 1 goalkeeper, 20 players, 2 referees, 228.1ms\n",
      "video 1/1 (frame 130/750) c:\\Users\\USUARIO\\Documents\\UNIVERSIDAD\\6\\TFG INFORMTICA\\IA FUTBOL\\data\\video_test\\prueba2.mp4: 544x960 1 goalkeeper, 21 players, 1 referee, 228.1ms\n",
      "video 1/1 (frame 131/750) c:\\Users\\USUARIO\\Documents\\UNIVERSIDAD\\6\\TFG INFORMTICA\\IA FUTBOL\\data\\video_test\\prueba2.mp4: 544x960 1 goalkeeper, 19 players, 1 referee, 228.1ms\n",
      "video 1/1 (frame 132/750) c:\\Users\\USUARIO\\Documents\\UNIVERSIDAD\\6\\TFG INFORMTICA\\IA FUTBOL\\data\\video_test\\prueba2.mp4: 544x960 1 ball, 1 goalkeeper, 20 players, 2 referees, 228.1ms\n",
      "video 1/1 (frame 133/750) c:\\Users\\USUARIO\\Documents\\UNIVERSIDAD\\6\\TFG INFORMTICA\\IA FUTBOL\\data\\video_test\\prueba2.mp4: 544x960 1 ball, 1 goalkeeper, 19 players, 2 referees, 228.1ms\n",
      "video 1/1 (frame 134/750) c:\\Users\\USUARIO\\Documents\\UNIVERSIDAD\\6\\TFG INFORMTICA\\IA FUTBOL\\data\\video_test\\prueba2.mp4: 544x960 1 ball, 1 goalkeeper, 20 players, 3 referees, 228.1ms\n",
      "video 1/1 (frame 135/750) c:\\Users\\USUARIO\\Documents\\UNIVERSIDAD\\6\\TFG INFORMTICA\\IA FUTBOL\\data\\video_test\\prueba2.mp4: 544x960 1 ball, 1 goalkeeper, 20 players, 3 referees, 228.1ms\n",
      "video 1/1 (frame 136/750) c:\\Users\\USUARIO\\Documents\\UNIVERSIDAD\\6\\TFG INFORMTICA\\IA FUTBOL\\data\\video_test\\prueba2.mp4: 544x960 1 ball, 1 goalkeeper, 20 players, 3 referees, 228.1ms\n",
      "video 1/1 (frame 137/750) c:\\Users\\USUARIO\\Documents\\UNIVERSIDAD\\6\\TFG INFORMTICA\\IA FUTBOL\\data\\video_test\\prueba2.mp4: 544x960 1 goalkeeper, 21 players, 2 referees, 228.1ms\n",
      "video 1/1 (frame 138/750) c:\\Users\\USUARIO\\Documents\\UNIVERSIDAD\\6\\TFG INFORMTICA\\IA FUTBOL\\data\\video_test\\prueba2.mp4: 544x960 1 ball, 1 goalkeeper, 20 players, 2 referees, 228.1ms\n",
      "video 1/1 (frame 139/750) c:\\Users\\USUARIO\\Documents\\UNIVERSIDAD\\6\\TFG INFORMTICA\\IA FUTBOL\\data\\video_test\\prueba2.mp4: 544x960 1 ball, 1 goalkeeper, 20 players, 2 referees, 228.1ms\n",
      "video 1/1 (frame 140/750) c:\\Users\\USUARIO\\Documents\\UNIVERSIDAD\\6\\TFG INFORMTICA\\IA FUTBOL\\data\\video_test\\prueba2.mp4: 544x960 1 ball, 1 goalkeeper, 23 players, 2 referees, 228.1ms\n",
      "video 1/1 (frame 141/750) c:\\Users\\USUARIO\\Documents\\UNIVERSIDAD\\6\\TFG INFORMTICA\\IA FUTBOL\\data\\video_test\\prueba2.mp4: 544x960 1 ball, 1 goalkeeper, 21 players, 2 referees, 235.9ms\n",
      "video 1/1 (frame 142/750) c:\\Users\\USUARIO\\Documents\\UNIVERSIDAD\\6\\TFG INFORMTICA\\IA FUTBOL\\data\\video_test\\prueba2.mp4: 544x960 1 ball, 1 goalkeeper, 21 players, 1 referee, 235.9ms\n",
      "video 1/1 (frame 143/750) c:\\Users\\USUARIO\\Documents\\UNIVERSIDAD\\6\\TFG INFORMTICA\\IA FUTBOL\\data\\video_test\\prueba2.mp4: 544x960 1 ball, 1 goalkeeper, 21 players, 2 referees, 235.9ms\n",
      "video 1/1 (frame 144/750) c:\\Users\\USUARIO\\Documents\\UNIVERSIDAD\\6\\TFG INFORMTICA\\IA FUTBOL\\data\\video_test\\prueba2.mp4: 544x960 1 goalkeeper, 20 players, 3 referees, 235.9ms\n",
      "video 1/1 (frame 145/750) c:\\Users\\USUARIO\\Documents\\UNIVERSIDAD\\6\\TFG INFORMTICA\\IA FUTBOL\\data\\video_test\\prueba2.mp4: 544x960 1 goalkeeper, 20 players, 4 referees, 235.9ms\n",
      "video 1/1 (frame 146/750) c:\\Users\\USUARIO\\Documents\\UNIVERSIDAD\\6\\TFG INFORMTICA\\IA FUTBOL\\data\\video_test\\prueba2.mp4: 544x960 1 goalkeeper, 20 players, 3 referees, 235.9ms\n",
      "video 1/1 (frame 147/750) c:\\Users\\USUARIO\\Documents\\UNIVERSIDAD\\6\\TFG INFORMTICA\\IA FUTBOL\\data\\video_test\\prueba2.mp4: 544x960 1 goalkeeper, 20 players, 3 referees, 235.9ms\n",
      "video 1/1 (frame 148/750) c:\\Users\\USUARIO\\Documents\\UNIVERSIDAD\\6\\TFG INFORMTICA\\IA FUTBOL\\data\\video_test\\prueba2.mp4: 544x960 1 goalkeeper, 20 players, 3 referees, 235.9ms\n",
      "video 1/1 (frame 149/750) c:\\Users\\USUARIO\\Documents\\UNIVERSIDAD\\6\\TFG INFORMTICA\\IA FUTBOL\\data\\video_test\\prueba2.mp4: 544x960 1 goalkeeper, 21 players, 3 referees, 235.9ms\n",
      "video 1/1 (frame 150/750) c:\\Users\\USUARIO\\Documents\\UNIVERSIDAD\\6\\TFG INFORMTICA\\IA FUTBOL\\data\\video_test\\prueba2.mp4: 544x960 1 goalkeeper, 20 players, 4 referees, 235.9ms\n",
      "video 1/1 (frame 151/750) c:\\Users\\USUARIO\\Documents\\UNIVERSIDAD\\6\\TFG INFORMTICA\\IA FUTBOL\\data\\video_test\\prueba2.mp4: 544x960 1 goalkeeper, 21 players, 4 referees, 235.9ms\n",
      "video 1/1 (frame 152/750) c:\\Users\\USUARIO\\Documents\\UNIVERSIDAD\\6\\TFG INFORMTICA\\IA FUTBOL\\data\\video_test\\prueba2.mp4: 544x960 1 goalkeeper, 21 players, 3 referees, 235.9ms\n",
      "video 1/1 (frame 153/750) c:\\Users\\USUARIO\\Documents\\UNIVERSIDAD\\6\\TFG INFORMTICA\\IA FUTBOL\\data\\video_test\\prueba2.mp4: 544x960 1 goalkeeper, 21 players, 2 referees, 235.9ms\n",
      "video 1/1 (frame 154/750) c:\\Users\\USUARIO\\Documents\\UNIVERSIDAD\\6\\TFG INFORMTICA\\IA FUTBOL\\data\\video_test\\prueba2.mp4: 544x960 1 goalkeeper, 20 players, 2 referees, 235.9ms\n",
      "video 1/1 (frame 155/750) c:\\Users\\USUARIO\\Documents\\UNIVERSIDAD\\6\\TFG INFORMTICA\\IA FUTBOL\\data\\video_test\\prueba2.mp4: 544x960 1 goalkeeper, 21 players, 2 referees, 235.9ms\n",
      "video 1/1 (frame 156/750) c:\\Users\\USUARIO\\Documents\\UNIVERSIDAD\\6\\TFG INFORMTICA\\IA FUTBOL\\data\\video_test\\prueba2.mp4: 544x960 1 goalkeeper, 21 players, 2 referees, 235.9ms\n",
      "video 1/1 (frame 157/750) c:\\Users\\USUARIO\\Documents\\UNIVERSIDAD\\6\\TFG INFORMTICA\\IA FUTBOL\\data\\video_test\\prueba2.mp4: 544x960 1 goalkeeper, 21 players, 3 referees, 235.9ms\n",
      "video 1/1 (frame 158/750) c:\\Users\\USUARIO\\Documents\\UNIVERSIDAD\\6\\TFG INFORMTICA\\IA FUTBOL\\data\\video_test\\prueba2.mp4: 544x960 1 goalkeeper, 21 players, 3 referees, 235.9ms\n",
      "video 1/1 (frame 159/750) c:\\Users\\USUARIO\\Documents\\UNIVERSIDAD\\6\\TFG INFORMTICA\\IA FUTBOL\\data\\video_test\\prueba2.mp4: 544x960 1 goalkeeper, 21 players, 2 referees, 235.9ms\n",
      "video 1/1 (frame 160/750) c:\\Users\\USUARIO\\Documents\\UNIVERSIDAD\\6\\TFG INFORMTICA\\IA FUTBOL\\data\\video_test\\prueba2.mp4: 544x960 1 goalkeeper, 21 players, 2 referees, 235.9ms\n",
      "video 1/1 (frame 161/750) c:\\Users\\USUARIO\\Documents\\UNIVERSIDAD\\6\\TFG INFORMTICA\\IA FUTBOL\\data\\video_test\\prueba2.mp4: 544x960 1 ball, 1 goalkeeper, 21 players, 3 referees, 235.5ms\n",
      "video 1/1 (frame 162/750) c:\\Users\\USUARIO\\Documents\\UNIVERSIDAD\\6\\TFG INFORMTICA\\IA FUTBOL\\data\\video_test\\prueba2.mp4: 544x960 1 goalkeeper, 21 players, 3 referees, 235.5ms\n",
      "video 1/1 (frame 163/750) c:\\Users\\USUARIO\\Documents\\UNIVERSIDAD\\6\\TFG INFORMTICA\\IA FUTBOL\\data\\video_test\\prueba2.mp4: 544x960 1 goalkeeper, 19 players, 3 referees, 235.5ms\n",
      "video 1/1 (frame 164/750) c:\\Users\\USUARIO\\Documents\\UNIVERSIDAD\\6\\TFG INFORMTICA\\IA FUTBOL\\data\\video_test\\prueba2.mp4: 544x960 1 goalkeeper, 20 players, 3 referees, 235.5ms\n",
      "video 1/1 (frame 165/750) c:\\Users\\USUARIO\\Documents\\UNIVERSIDAD\\6\\TFG INFORMTICA\\IA FUTBOL\\data\\video_test\\prueba2.mp4: 544x960 1 goalkeeper, 20 players, 3 referees, 235.5ms\n",
      "video 1/1 (frame 166/750) c:\\Users\\USUARIO\\Documents\\UNIVERSIDAD\\6\\TFG INFORMTICA\\IA FUTBOL\\data\\video_test\\prueba2.mp4: 544x960 1 goalkeeper, 20 players, 3 referees, 235.5ms\n",
      "video 1/1 (frame 167/750) c:\\Users\\USUARIO\\Documents\\UNIVERSIDAD\\6\\TFG INFORMTICA\\IA FUTBOL\\data\\video_test\\prueba2.mp4: 544x960 1 goalkeeper, 19 players, 3 referees, 235.5ms\n",
      "video 1/1 (frame 168/750) c:\\Users\\USUARIO\\Documents\\UNIVERSIDAD\\6\\TFG INFORMTICA\\IA FUTBOL\\data\\video_test\\prueba2.mp4: 544x960 1 goalkeeper, 19 players, 3 referees, 235.5ms\n",
      "video 1/1 (frame 169/750) c:\\Users\\USUARIO\\Documents\\UNIVERSIDAD\\6\\TFG INFORMTICA\\IA FUTBOL\\data\\video_test\\prueba2.mp4: 544x960 1 goalkeeper, 20 players, 4 referees, 235.5ms\n",
      "video 1/1 (frame 170/750) c:\\Users\\USUARIO\\Documents\\UNIVERSIDAD\\6\\TFG INFORMTICA\\IA FUTBOL\\data\\video_test\\prueba2.mp4: 544x960 1 goalkeeper, 19 players, 3 referees, 235.5ms\n",
      "video 1/1 (frame 171/750) c:\\Users\\USUARIO\\Documents\\UNIVERSIDAD\\6\\TFG INFORMTICA\\IA FUTBOL\\data\\video_test\\prueba2.mp4: 544x960 1 goalkeeper, 19 players, 4 referees, 235.5ms\n",
      "video 1/1 (frame 172/750) c:\\Users\\USUARIO\\Documents\\UNIVERSIDAD\\6\\TFG INFORMTICA\\IA FUTBOL\\data\\video_test\\prueba2.mp4: 544x960 1 goalkeeper, 20 players, 3 referees, 235.5ms\n",
      "video 1/1 (frame 173/750) c:\\Users\\USUARIO\\Documents\\UNIVERSIDAD\\6\\TFG INFORMTICA\\IA FUTBOL\\data\\video_test\\prueba2.mp4: 544x960 1 goalkeeper, 20 players, 3 referees, 235.5ms\n",
      "video 1/1 (frame 174/750) c:\\Users\\USUARIO\\Documents\\UNIVERSIDAD\\6\\TFG INFORMTICA\\IA FUTBOL\\data\\video_test\\prueba2.mp4: 544x960 1 goalkeeper, 20 players, 4 referees, 235.5ms\n",
      "video 1/1 (frame 175/750) c:\\Users\\USUARIO\\Documents\\UNIVERSIDAD\\6\\TFG INFORMTICA\\IA FUTBOL\\data\\video_test\\prueba2.mp4: 544x960 1 goalkeeper, 19 players, 3 referees, 235.5ms\n",
      "video 1/1 (frame 176/750) c:\\Users\\USUARIO\\Documents\\UNIVERSIDAD\\6\\TFG INFORMTICA\\IA FUTBOL\\data\\video_test\\prueba2.mp4: 544x960 1 goalkeeper, 19 players, 4 referees, 235.5ms\n",
      "video 1/1 (frame 177/750) c:\\Users\\USUARIO\\Documents\\UNIVERSIDAD\\6\\TFG INFORMTICA\\IA FUTBOL\\data\\video_test\\prueba2.mp4: 544x960 1 goalkeeper, 19 players, 4 referees, 235.5ms\n",
      "video 1/1 (frame 178/750) c:\\Users\\USUARIO\\Documents\\UNIVERSIDAD\\6\\TFG INFORMTICA\\IA FUTBOL\\data\\video_test\\prueba2.mp4: 544x960 1 goalkeeper, 20 players, 4 referees, 235.5ms\n",
      "video 1/1 (frame 179/750) c:\\Users\\USUARIO\\Documents\\UNIVERSIDAD\\6\\TFG INFORMTICA\\IA FUTBOL\\data\\video_test\\prueba2.mp4: 544x960 1 goalkeeper, 20 players, 4 referees, 235.5ms\n",
      "video 1/1 (frame 180/750) c:\\Users\\USUARIO\\Documents\\UNIVERSIDAD\\6\\TFG INFORMTICA\\IA FUTBOL\\data\\video_test\\prueba2.mp4: 544x960 1 goalkeeper, 20 players, 3 referees, 235.5ms\n"
     ]
    },
    {
     "ename": "KeyboardInterrupt",
     "evalue": "",
     "output_type": "error",
     "traceback": [
      "\u001b[1;31m---------------------------------------------------------------------------\u001b[0m",
      "\u001b[1;31mKeyboardInterrupt\u001b[0m                         Traceback (most recent call last)",
      "Cell \u001b[1;32mIn[4], line 9\u001b[0m\n\u001b[0;32m      6\u001b[0m \u001b[38;5;66;03m# Cargar modelo YOLO\u001b[39;00m\n\u001b[0;32m      7\u001b[0m model \u001b[38;5;241m=\u001b[39m YOLO(\u001b[38;5;124m\"\u001b[39m\u001b[38;5;124mmodels/yolo9-60ep-8b-960imgsz.pt\u001b[39m\u001b[38;5;124m\"\u001b[39m)  \n\u001b[1;32m----> 9\u001b[0m results \u001b[38;5;241m=\u001b[39m \u001b[43mmodel\u001b[49m\u001b[38;5;241;43m.\u001b[39;49m\u001b[43mpredict\u001b[49m\u001b[43m(\u001b[49m\u001b[38;5;124;43m\"\u001b[39;49m\u001b[38;5;124;43mdata/video_test/prueba2.mp4\u001b[39;49m\u001b[38;5;124;43m\"\u001b[39;49m\u001b[43m,\u001b[49m\u001b[43m \u001b[49m\u001b[43msave\u001b[49m\u001b[38;5;241;43m=\u001b[39;49m\u001b[38;5;28;43;01mTrue\u001b[39;49;00m\u001b[43m,\u001b[49m\u001b[43m \u001b[49m\u001b[43mbatch\u001b[49m\u001b[38;5;241;43m=\u001b[39;49m\u001b[38;5;241;43m20\u001b[39;49m\u001b[43m)\u001b[49m\n",
      "File \u001b[1;32mc:\\Users\\USUARIO\\AppData\\Local\\Programs\\Python\\Python311\\Lib\\site-packages\\ultralytics\\engine\\model.py:559\u001b[0m, in \u001b[0;36mModel.predict\u001b[1;34m(self, source, stream, predictor, **kwargs)\u001b[0m\n\u001b[0;32m    557\u001b[0m \u001b[38;5;28;01mif\u001b[39;00m prompts \u001b[38;5;129;01mand\u001b[39;00m \u001b[38;5;28mhasattr\u001b[39m(\u001b[38;5;28mself\u001b[39m\u001b[38;5;241m.\u001b[39mpredictor, \u001b[38;5;124m\"\u001b[39m\u001b[38;5;124mset_prompts\u001b[39m\u001b[38;5;124m\"\u001b[39m):  \u001b[38;5;66;03m# for SAM-type models\u001b[39;00m\n\u001b[0;32m    558\u001b[0m     \u001b[38;5;28mself\u001b[39m\u001b[38;5;241m.\u001b[39mpredictor\u001b[38;5;241m.\u001b[39mset_prompts(prompts)\n\u001b[1;32m--> 559\u001b[0m \u001b[38;5;28;01mreturn\u001b[39;00m \u001b[38;5;28mself\u001b[39m\u001b[38;5;241m.\u001b[39mpredictor\u001b[38;5;241m.\u001b[39mpredict_cli(source\u001b[38;5;241m=\u001b[39msource) \u001b[38;5;28;01mif\u001b[39;00m is_cli \u001b[38;5;28;01melse\u001b[39;00m \u001b[38;5;28;43mself\u001b[39;49m\u001b[38;5;241;43m.\u001b[39;49m\u001b[43mpredictor\u001b[49m\u001b[43m(\u001b[49m\u001b[43msource\u001b[49m\u001b[38;5;241;43m=\u001b[39;49m\u001b[43msource\u001b[49m\u001b[43m,\u001b[49m\u001b[43m \u001b[49m\u001b[43mstream\u001b[49m\u001b[38;5;241;43m=\u001b[39;49m\u001b[43mstream\u001b[49m\u001b[43m)\u001b[49m\n",
      "File \u001b[1;32mc:\\Users\\USUARIO\\AppData\\Local\\Programs\\Python\\Python311\\Lib\\site-packages\\ultralytics\\engine\\predictor.py:175\u001b[0m, in \u001b[0;36mBasePredictor.__call__\u001b[1;34m(self, source, model, stream, *args, **kwargs)\u001b[0m\n\u001b[0;32m    173\u001b[0m     \u001b[38;5;28;01mreturn\u001b[39;00m \u001b[38;5;28mself\u001b[39m\u001b[38;5;241m.\u001b[39mstream_inference(source, model, \u001b[38;5;241m*\u001b[39margs, \u001b[38;5;241m*\u001b[39m\u001b[38;5;241m*\u001b[39mkwargs)\n\u001b[0;32m    174\u001b[0m \u001b[38;5;28;01melse\u001b[39;00m:\n\u001b[1;32m--> 175\u001b[0m     \u001b[38;5;28;01mreturn\u001b[39;00m \u001b[38;5;28;43mlist\u001b[39;49m\u001b[43m(\u001b[49m\u001b[38;5;28;43mself\u001b[39;49m\u001b[38;5;241;43m.\u001b[39;49m\u001b[43mstream_inference\u001b[49m\u001b[43m(\u001b[49m\u001b[43msource\u001b[49m\u001b[43m,\u001b[49m\u001b[43m \u001b[49m\u001b[43mmodel\u001b[49m\u001b[43m,\u001b[49m\u001b[43m \u001b[49m\u001b[38;5;241;43m*\u001b[39;49m\u001b[43margs\u001b[49m\u001b[43m,\u001b[49m\u001b[43m \u001b[49m\u001b[38;5;241;43m*\u001b[39;49m\u001b[38;5;241;43m*\u001b[39;49m\u001b[43mkwargs\u001b[49m\u001b[43m)\u001b[49m\u001b[43m)\u001b[49m\n",
      "File \u001b[1;32mc:\\Users\\USUARIO\\AppData\\Local\\Programs\\Python\\Python311\\Lib\\site-packages\\torch\\utils\\_contextlib.py:57\u001b[0m, in \u001b[0;36m_wrap_generator.<locals>.generator_context\u001b[1;34m(*args, **kwargs)\u001b[0m\n\u001b[0;32m     54\u001b[0m         \u001b[38;5;28;01melse\u001b[39;00m:\n\u001b[0;32m     55\u001b[0m             \u001b[38;5;66;03m# Pass the last request to the generator and get its response\u001b[39;00m\n\u001b[0;32m     56\u001b[0m             \u001b[38;5;28;01mwith\u001b[39;00m ctx_factory():\n\u001b[1;32m---> 57\u001b[0m                 response \u001b[38;5;241m=\u001b[39m gen\u001b[38;5;241m.\u001b[39msend(request)\n\u001b[0;32m     59\u001b[0m \u001b[38;5;66;03m# We let the exceptions raised above by the generator's `.throw` or\u001b[39;00m\n\u001b[0;32m     60\u001b[0m \u001b[38;5;66;03m# `.send` methods bubble up to our caller, except for StopIteration\u001b[39;00m\n\u001b[0;32m     61\u001b[0m \u001b[38;5;28;01mexcept\u001b[39;00m \u001b[38;5;167;01mStopIteration\u001b[39;00m \u001b[38;5;28;01mas\u001b[39;00m e:\n\u001b[0;32m     62\u001b[0m     \u001b[38;5;66;03m# The generator informed us that it is done: take whatever its\u001b[39;00m\n\u001b[0;32m     63\u001b[0m     \u001b[38;5;66;03m# returned value (if any) was and indicate that we're done too\u001b[39;00m\n\u001b[0;32m     64\u001b[0m     \u001b[38;5;66;03m# by returning it (see docs for python's return-statement).\u001b[39;00m\n",
      "File \u001b[1;32mc:\\Users\\USUARIO\\AppData\\Local\\Programs\\Python\\Python311\\Lib\\site-packages\\ultralytics\\engine\\predictor.py:260\u001b[0m, in \u001b[0;36mBasePredictor.stream_inference\u001b[1;34m(self, source, model, *args, **kwargs)\u001b[0m\n\u001b[0;32m    257\u001b[0m     im \u001b[38;5;241m=\u001b[39m \u001b[38;5;28mself\u001b[39m\u001b[38;5;241m.\u001b[39mpreprocess(im0s)\n\u001b[0;32m    259\u001b[0m \u001b[38;5;66;03m# Inference\u001b[39;00m\n\u001b[1;32m--> 260\u001b[0m \u001b[43m\u001b[49m\u001b[38;5;28;43;01mwith\u001b[39;49;00m\u001b[43m \u001b[49m\u001b[43mprofilers\u001b[49m\u001b[43m[\u001b[49m\u001b[38;5;241;43m1\u001b[39;49m\u001b[43m]\u001b[49m\u001b[43m:\u001b[49m\n\u001b[0;32m    261\u001b[0m \u001b[43m    \u001b[49m\u001b[43mpreds\u001b[49m\u001b[43m \u001b[49m\u001b[38;5;241;43m=\u001b[39;49m\u001b[43m \u001b[49m\u001b[38;5;28;43mself\u001b[39;49m\u001b[38;5;241;43m.\u001b[39;49m\u001b[43minference\u001b[49m\u001b[43m(\u001b[49m\u001b[43mim\u001b[49m\u001b[43m,\u001b[49m\u001b[43m \u001b[49m\u001b[38;5;241;43m*\u001b[39;49m\u001b[43margs\u001b[49m\u001b[43m,\u001b[49m\u001b[43m \u001b[49m\u001b[38;5;241;43m*\u001b[39;49m\u001b[38;5;241;43m*\u001b[39;49m\u001b[43mkwargs\u001b[49m\u001b[43m)\u001b[49m\n\u001b[0;32m    262\u001b[0m \u001b[43m    \u001b[49m\u001b[38;5;28;43;01mif\u001b[39;49;00m\u001b[43m \u001b[49m\u001b[38;5;28;43mself\u001b[39;49m\u001b[38;5;241;43m.\u001b[39;49m\u001b[43margs\u001b[49m\u001b[38;5;241;43m.\u001b[39;49m\u001b[43membed\u001b[49m\u001b[43m:\u001b[49m\n",
      "File \u001b[1;32mc:\\Users\\USUARIO\\AppData\\Local\\Programs\\Python\\Python311\\Lib\\site-packages\\ultralytics\\utils\\ops.py:51\u001b[0m, in \u001b[0;36mProfile.__exit__\u001b[1;34m(self, type, value, traceback)\u001b[0m\n\u001b[0;32m     49\u001b[0m \u001b[38;5;28;01mdef\u001b[39;00m\u001b[38;5;250m \u001b[39m\u001b[38;5;21m__exit__\u001b[39m(\u001b[38;5;28mself\u001b[39m, \u001b[38;5;28mtype\u001b[39m, value, traceback):  \u001b[38;5;66;03m# noqa\u001b[39;00m\n\u001b[0;32m     50\u001b[0m \u001b[38;5;250m    \u001b[39m\u001b[38;5;124;03m\"\"\"Stop timing.\"\"\"\u001b[39;00m\n\u001b[1;32m---> 51\u001b[0m     \u001b[38;5;28mself\u001b[39m\u001b[38;5;241m.\u001b[39mdt \u001b[38;5;241m=\u001b[39m \u001b[38;5;28;43mself\u001b[39;49m\u001b[38;5;241;43m.\u001b[39;49m\u001b[43mtime\u001b[49m\u001b[43m(\u001b[49m\u001b[43m)\u001b[49m \u001b[38;5;241m-\u001b[39m \u001b[38;5;28mself\u001b[39m\u001b[38;5;241m.\u001b[39mstart  \u001b[38;5;66;03m# delta-time\u001b[39;00m\n\u001b[0;32m     52\u001b[0m     \u001b[38;5;28mself\u001b[39m\u001b[38;5;241m.\u001b[39mt \u001b[38;5;241m+\u001b[39m\u001b[38;5;241m=\u001b[39m \u001b[38;5;28mself\u001b[39m\u001b[38;5;241m.\u001b[39mdt\n",
      "File \u001b[1;32mc:\\Users\\USUARIO\\AppData\\Local\\Programs\\Python\\Python311\\Lib\\site-packages\\ultralytics\\utils\\ops.py:61\u001b[0m, in \u001b[0;36mProfile.time\u001b[1;34m(self)\u001b[0m\n\u001b[0;32m     59\u001b[0m \u001b[38;5;250m\u001b[39m\u001b[38;5;124;03m\"\"\"Get current time.\"\"\"\u001b[39;00m\n\u001b[0;32m     60\u001b[0m \u001b[38;5;28;01mif\u001b[39;00m \u001b[38;5;28mself\u001b[39m\u001b[38;5;241m.\u001b[39mcuda:\n\u001b[1;32m---> 61\u001b[0m     \u001b[43mtorch\u001b[49m\u001b[38;5;241;43m.\u001b[39;49m\u001b[43mcuda\u001b[49m\u001b[38;5;241;43m.\u001b[39;49m\u001b[43msynchronize\u001b[49m\u001b[43m(\u001b[49m\u001b[38;5;28;43mself\u001b[39;49m\u001b[38;5;241;43m.\u001b[39;49m\u001b[43mdevice\u001b[49m\u001b[43m)\u001b[49m\n\u001b[0;32m     62\u001b[0m \u001b[38;5;28;01mreturn\u001b[39;00m time\u001b[38;5;241m.\u001b[39mperf_counter()\n",
      "File \u001b[1;32mc:\\Users\\USUARIO\\AppData\\Local\\Programs\\Python\\Python311\\Lib\\site-packages\\torch\\cuda\\__init__.py:954\u001b[0m, in \u001b[0;36msynchronize\u001b[1;34m(device)\u001b[0m\n\u001b[0;32m    952\u001b[0m _lazy_init()\n\u001b[0;32m    953\u001b[0m \u001b[38;5;28;01mwith\u001b[39;00m torch\u001b[38;5;241m.\u001b[39mcuda\u001b[38;5;241m.\u001b[39mdevice(device):\n\u001b[1;32m--> 954\u001b[0m     \u001b[38;5;28;01mreturn\u001b[39;00m \u001b[43mtorch\u001b[49m\u001b[38;5;241;43m.\u001b[39;49m\u001b[43m_C\u001b[49m\u001b[38;5;241;43m.\u001b[39;49m\u001b[43m_cuda_synchronize\u001b[49m\u001b[43m(\u001b[49m\u001b[43m)\u001b[49m\n",
      "\u001b[1;31mKeyboardInterrupt\u001b[0m: "
     ]
    }
   ],
   "source": [
    "import numpy as np\n",
    "import cv2\n",
    "from sklearn.cluster import KMeans\n",
    "from ultralytics import YOLO\n",
    "\n",
    "# Cargar modelo YOLO\n",
    "model = YOLO(\"models/yolo9-60ep-8b-960imgsz.pt\")  \n",
    "\n",
    "results = model.predict(\"data/video_test/prueba2.mp4\", save=True, batch=20)"
   ]
  },
  {
   "cell_type": "code",
   "execution_count": null,
   "metadata": {},
   "outputs": [],
   "source": [
    "from .utils import get_color\n"
   ]
  }
 ],
 "metadata": {
  "kernelspec": {
   "display_name": "Python 3",
   "language": "python",
   "name": "python3"
  },
  "language_info": {
   "codemirror_mode": {
    "name": "ipython",
    "version": 3
   },
   "file_extension": ".py",
   "mimetype": "text/x-python",
   "name": "python",
   "nbconvert_exporter": "python",
   "pygments_lexer": "ipython3",
   "version": "3.10.9"
  }
 },
 "nbformat": 4,
 "nbformat_minor": 2
}
